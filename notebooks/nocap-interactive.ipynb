{
 "cells": [
  {
   "cell_type": "markdown",
   "id": "9275c2ef",
   "metadata": {},
   "source": [
    "# Cap to CL\n",
    "This notebook seeks to organize court listener bulk data in a way similar to https://case.law\n"
   ]
  },
  {
   "cell_type": "code",
   "execution_count": null,
   "id": "e661341e",
   "metadata": {},
   "outputs": [],
   "source": [
    "!pip3 install lil-nocap"
   ]
  },
  {
   "cell_type": "code",
   "execution_count": 1,
   "id": "1fcd82be",
   "metadata": {},
   "outputs": [],
   "source": [
    "import lil_nocap as lnc\n",
    "import pandas as pd\n",
    "import seaborn as sns\n",
    "import matplotlib.pyplot as plt"
   ]
  },
  {
   "cell_type": "code",
   "execution_count": 2,
   "id": "4fc9ca02",
   "metadata": {},
   "outputs": [],
   "source": [
    "%matplotlib inline"
   ]
  },
  {
   "cell_type": "code",
   "execution_count": 3,
   "id": "fd1936d0",
   "metadata": {},
   "outputs": [],
   "source": [
    "# pandas option to show all columns\n",
    "pd.set_option(\"display.max_columns\", None)"
   ]
  },
  {
   "cell_type": "markdown",
   "id": "6b98c796",
   "metadata": {},
   "source": [
    "## Get Files Needed"
   ]
  },
  {
   "cell_type": "markdown",
   "id": "ab3ccae2",
   "metadata": {},
   "source": [
    "This assumes all the files have been [downloaded](https://com-courtlistener-storage.s3-us-west-2.amazonaws.com/list.html?prefix=bulk-data/) locally:\n",
    "* courts\n",
    "* dockets\n",
    "* opinion_clusters\n",
    "* opinions\n",
    "* citation_map\n",
    "\n"
   ]
  },
  {
   "cell_type": "markdown",
   "id": "c858bf82",
   "metadata": {},
   "source": [
    "## Pass file locations to NoCAP"
   ]
  },
  {
   "cell_type": "code",
   "execution_count": 4,
   "id": "8ede68b8",
   "metadata": {},
   "outputs": [],
   "source": [
    "path = \"/Users/sabelosethumhlambi/Downloads/\""
   ]
  },
  {
   "cell_type": "code",
   "execution_count": 5,
   "id": "82000d6c",
   "metadata": {},
   "outputs": [],
   "source": [
    "opinions_fn = f'{path}opinions-2022-12-31.csv'\n",
    "courts_fn = f'{path}courts-2022-12-31.csv'\n",
    "dockets_fn = f'{path}dockets-2022-12-31.csv'\n",
    "opinion_clusters_fn = f'{path}opinion-clusters-2022-12-31.csv'\n",
    "citation_fn = f'{path}citation-map-2022-12-31.csv'"
   ]
  },
  {
   "cell_type": "markdown",
   "id": "690bc333",
   "metadata": {},
   "source": [
    "## Initalize NoCAP"
   ]
  },
  {
   "cell_type": "code",
   "execution_count": null,
   "id": "0d80a0e4",
   "metadata": {
    "scrolled": true
   },
   "outputs": [
    {
     "name": "stdout",
     "output_type": "stream",
     "text": [
      "Importing /Users/sabelosethumhlambi/Downloads/courts-2022-12-31.csv as a dataframe\n",
      "File Size is : 0.0 GB\n",
      "/Users/sabelosethumhlambi/Downloads/courts-2022-12-31.csv read in 0 minutes\n",
      "Importing /Users/sabelosethumhlambi/Downloads/opinion-clusters-2022-12-31.csv as a dataframe\n",
      "File Size is : 6.7 GB\n"
     ]
    },
    {
     "name": "stderr",
     "output_type": "stream",
     "text": [
      "/Users/sabelosethumhlambi/Library/Python/3.8/lib/python/site-packages/lil_nocap/__init__.py:33: DtypeWarning: Columns (10,17,18,19,20,21,22,23,24,25,26,29) have mixed types. Specify dtype option on import or set low_memory=False.\n",
      "  for df in pd.read_csv(filename, chunksize=max_rows, dtype=dtype,\n"
     ]
    },
    {
     "name": "stdout",
     "output_type": "stream",
     "text": [
      "/Users/sabelosethumhlambi/Downloads/opinion-clusters-2022-12-31.csv read in 2 minutes\n",
      "Importing /Users/sabelosethumhlambi/Downloads/citation-map-2022-12-31.csv as a dataframe\n",
      "File Size is : 0.79 GB\n",
      "/Users/sabelosethumhlambi/Downloads/citation-map-2022-12-31.csv read in 0 minutes\n",
      "Importing /Users/sabelosethumhlambi/Downloads/dockets-2022-12-31.csv as a dataframe\n",
      "File Size is : 18.49 GB\n"
     ]
    },
    {
     "name": "stderr",
     "output_type": "stream",
     "text": [
      "/Users/sabelosethumhlambi/Library/Python/3.8/lib/python/site-packages/lil_nocap/__init__.py:33: DtypeWarning: Columns (7,22,34) have mixed types. Specify dtype option on import or set low_memory=False.\n",
      "  for df in pd.read_csv(filename, chunksize=max_rows, dtype=dtype,\n",
      "/Users/sabelosethumhlambi/Library/Python/3.8/lib/python/site-packages/lil_nocap/__init__.py:33: DtypeWarning: Columns (7,20,22,31,34) have mixed types. Specify dtype option on import or set low_memory=False.\n",
      "  for df in pd.read_csv(filename, chunksize=max_rows, dtype=dtype,\n",
      "/Users/sabelosethumhlambi/Library/Python/3.8/lib/python/site-packages/lil_nocap/__init__.py:33: DtypeWarning: Columns (7,22,34) have mixed types. Specify dtype option on import or set low_memory=False.\n",
      "  for df in pd.read_csv(filename, chunksize=max_rows, dtype=dtype,\n",
      "/Users/sabelosethumhlambi/Library/Python/3.8/lib/python/site-packages/lil_nocap/__init__.py:33: DtypeWarning: Columns (7,22,34) have mixed types. Specify dtype option on import or set low_memory=False.\n",
      "  for df in pd.read_csv(filename, chunksize=max_rows, dtype=dtype,\n"
     ]
    }
   ],
   "source": [
    "nc = lnc.NoCap(opinions_fn, opinion_clusters_fn, courts_fn, dockets_fn, citation_fn)"
   ]
  },
  {
   "cell_type": "markdown",
   "id": "7ca43f8b",
   "metadata": {},
   "source": [
    "## Process files"
   ]
  },
  {
   "cell_type": "markdown",
   "id": "d9c41af3",
   "metadata": {},
   "source": [
    "Generate JSON files with a default taxonomy"
   ]
  },
  {
   "cell_type": "code",
   "execution_count": null,
   "id": "d389c8cc",
   "metadata": {},
   "outputs": [],
   "source": [
    "nc.start()"
   ]
  },
  {
   "cell_type": "markdown",
   "id": "e7d028dc",
   "metadata": {},
   "source": [
    "## Analytics"
   ]
  },
  {
   "cell_type": "code",
   "execution_count": 695,
   "id": "d47e27c6",
   "metadata": {},
   "outputs": [],
   "source": [
    "mask = (\n",
    "        df_opinions[('plain_text')].notna() |\n",
    "        df_opinions[('html')].notna() |\n",
    "        df_opinions[('html_lawbox')].notna() |\n",
    "        df_opinions[('html_columbia')].notna() |\n",
    "        df_opinions[('xml_harvard')].notna() |\n",
    "        df_opinions[('html_anon_2020')].notna()\n",
    "\n",
    "       )"
   ]
  },
  {
   "cell_type": "code",
   "execution_count": 696,
   "id": "29b63f33",
   "metadata": {},
   "outputs": [],
   "source": [
    "texts = df_opinions[mask][[\n",
    "        'plain_text',\n",
    "        'html',\n",
    "        'html_lawbox',\n",
    "        'html_columbia',\n",
    "        'xml_harvard',\n",
    "        'html_anon_2020'\n",
    "    \n",
    "]]"
   ]
  },
  {
   "cell_type": "code",
   "execution_count": 697,
   "id": "3e19e508",
   "metadata": {},
   "outputs": [],
   "source": [
    "labels = pd.Series(['plain_text',\n",
    "        'html',\n",
    "        'html_lawbox',\n",
    "        'html_columbia',\n",
    "        'xml_harvard',\n",
    "        'html_anon_2020'])"
   ]
  },
  {
   "cell_type": "code",
   "execution_count": 699,
   "id": "a80567e2",
   "metadata": {},
   "outputs": [],
   "source": [
    "amt = pd.Series([len(texts[label].dropna()) \n",
    "                    for label in labels])/len(texts)"
   ]
  },
  {
   "cell_type": "code",
   "execution_count": 700,
   "id": "e35bbc23",
   "metadata": {},
   "outputs": [],
   "source": [
    "df_opinions_chart = pd.DataFrame({'source':source, 'amount':amt})"
   ]
  },
  {
   "cell_type": "code",
   "execution_count": 60,
   "id": "f67fc0af",
   "metadata": {},
   "outputs": [],
   "source": [
    "df_opinions_chart"
   ]
  },
  {
   "cell_type": "code",
   "execution_count": null,
   "id": "fc11da0f",
   "metadata": {},
   "outputs": [],
   "source": []
  }
 ],
 "metadata": {
  "kernelspec": {
   "display_name": "Python 3 (ipykernel)",
   "language": "python",
   "name": "python3"
  },
  "language_info": {
   "codemirror_mode": {
    "name": "ipython",
    "version": 3
   },
   "file_extension": ".py",
   "mimetype": "text/x-python",
   "name": "python",
   "nbconvert_exporter": "python",
   "pygments_lexer": "ipython3",
   "version": "3.8.9"
  }
 },
 "nbformat": 4,
 "nbformat_minor": 5
}
