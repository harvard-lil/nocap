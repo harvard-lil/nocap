{
 "cells": [
  {
   "cell_type": "markdown",
   "id": "9275c2ef",
   "metadata": {},
   "source": [
    "# Cap to CL\n",
    "This notebook seeks to organize court listener bulk data in a way similar to https://case.law\n"
   ]
  },
  {
   "cell_type": "code",
   "execution_count": 3,
   "id": "1fcd82be",
   "metadata": {},
   "outputs": [],
   "source": [
    "import pandas as pd\n",
    "import numpy as np\n",
    "import time\n",
    "import timeit\n",
    "import os\n",
    "import seaborn as sns\n",
    "import matplotlib.pyplot as plt"
   ]
  },
  {
   "cell_type": "code",
   "execution_count": 4,
   "id": "4fc9ca02",
   "metadata": {},
   "outputs": [],
   "source": [
    "%matplotlib inline"
   ]
  },
  {
   "cell_type": "code",
   "execution_count": 259,
   "id": "75d0bd0b",
   "metadata": {},
   "outputs": [],
   "source": [
    "DataFrame = pd.core.frame.DataFrame"
   ]
  },
  {
   "cell_type": "code",
   "execution_count": 100,
   "id": "fd1936d0",
   "metadata": {},
   "outputs": [],
   "source": [
    "pd.set_option(\"display.max_columns\", None)"
   ]
  },
  {
   "cell_type": "code",
   "execution_count": 8,
   "id": "835ee431",
   "metadata": {},
   "outputs": [],
   "source": [
    "# for large chunkfiles\n",
    "def read_csv_as_dfs(filename, \n",
    "                    num_dfs=10, \n",
    "                    max_rows=10**5, \n",
    "                    dtype=None, \n",
    "                    parse_dates=None,\n",
    "                    usecols=None\n",
    "                   ):\n",
    "    counter = 0\n",
    "    dfs_opinions = []\n",
    "    for df in pd.read_csv(filename, chunksize=max_rows, dtype=dtype, \n",
    "                          parse_dates=parse_dates, usecols=usecols):\n",
    "        if counter >= num_dfs:\n",
    "            break\n",
    "        dfs_opinions.append(df)\n",
    "        counter = counter + 1\n",
    "    return dfs_opinions"
   ]
  },
  {
   "cell_type": "code",
   "execution_count": 15,
   "id": "5ed4163f",
   "metadata": {},
   "outputs": [],
   "source": [
    "def csv_to_df(filename, dtype = None, parse_dates = None, max_gb=5):\n",
    "    start = time.perf_counter()\n",
    "    file_size = os.path.getsize(filename)\n",
    "    file_size_gb = round(file_size/10**9, 2)\n",
    "    print(\"File Size is :\", file_size_gb, \"GB\")\n",
    "    print(f'Importing {filename} as a dataframe')\n",
    "    df = None\n",
    "    if file_size_gb > max_gb:\n",
    "        df = pd.concat(read_csv_as_dfs(filename, num_dfs=10**5, max_rows=10**7, \n",
    "                                       dtype=dtype, parse_dates=parse_dates))\n",
    "    else:\n",
    "        df = pd.read_csv(filename, dtype=dtype, parse_dates=parse_dates)\n",
    "    end = time.perf_counter()\n",
    "    print(f'{filename} read in {int((end-start)/60)} minutes')\n",
    "    return df"
   ]
  },
  {
   "cell_type": "markdown",
   "id": "6b98c796",
   "metadata": {},
   "source": [
    "## Courts"
   ]
  },
  {
   "cell_type": "code",
   "execution_count": 16,
   "id": "82000d6c",
   "metadata": {},
   "outputs": [
    {
     "name": "stdout",
     "output_type": "stream",
     "text": [
      "File Size is : 0.0 GB\n",
      "Importing courts-2022-12-31.csv as a dataframe\n",
      "courts-2022-12-31.csv read in 0 minutes\n"
     ]
    }
   ],
   "source": [
    "courts_filename = 'courts-2022-12-31.csv'\n",
    "df_courts = csv_to_df(courts_filename)"
   ]
  },
  {
   "cell_type": "code",
   "execution_count": 18,
   "id": "0e04939e",
   "metadata": {},
   "outputs": [
    {
     "data": {
      "text/html": [
       "<div>\n",
       "<style scoped>\n",
       "    .dataframe tbody tr th:only-of-type {\n",
       "        vertical-align: middle;\n",
       "    }\n",
       "\n",
       "    .dataframe tbody tr th {\n",
       "        vertical-align: top;\n",
       "    }\n",
       "\n",
       "    .dataframe thead th {\n",
       "        text-align: right;\n",
       "    }\n",
       "</style>\n",
       "<table border=\"1\" class=\"dataframe\">\n",
       "  <thead>\n",
       "    <tr style=\"text-align: right;\">\n",
       "      <th></th>\n",
       "      <th>id</th>\n",
       "      <th>pacer_court_id</th>\n",
       "      <th>pacer_has_rss_feed</th>\n",
       "      <th>fjc_court_id</th>\n",
       "      <th>date_modified</th>\n",
       "      <th>in_use</th>\n",
       "      <th>has_opinion_scraper</th>\n",
       "      <th>has_oral_argument_scraper</th>\n",
       "      <th>position</th>\n",
       "      <th>citation_string</th>\n",
       "      <th>short_name</th>\n",
       "      <th>full_name</th>\n",
       "      <th>url</th>\n",
       "      <th>start_date</th>\n",
       "      <th>end_date</th>\n",
       "      <th>jurisdiction</th>\n",
       "    </tr>\n",
       "  </thead>\n",
       "  <tbody>\n",
       "    <tr>\n",
       "      <th>1497</th>\n",
       "      <td>texdistct202</td>\n",
       "      <td>NaN</td>\n",
       "      <td>NaN</td>\n",
       "      <td>NaN</td>\n",
       "      <td>2022-06-13 13:38:09.25745+00</td>\n",
       "      <td>f</td>\n",
       "      <td>f</td>\n",
       "      <td>f</td>\n",
       "      <td>368.7227</td>\n",
       "      <td>NaN</td>\n",
       "      <td>Tex. 201st Jud. Dist. Ct.</td>\n",
       "      <td>Texas 201st Judicial District Court</td>\n",
       "      <td>https://www.traviscountytx.gov/courts/civil/di...</td>\n",
       "      <td>NaN</td>\n",
       "      <td>NaN</td>\n",
       "      <td>ST</td>\n",
       "    </tr>\n",
       "    <tr>\n",
       "      <th>1329</th>\n",
       "      <td>texdistct33</td>\n",
       "      <td>NaN</td>\n",
       "      <td>NaN</td>\n",
       "      <td>NaN</td>\n",
       "      <td>2022-06-13 13:38:08.900235+00</td>\n",
       "      <td>f</td>\n",
       "      <td>f</td>\n",
       "      <td>f</td>\n",
       "      <td>368.7058</td>\n",
       "      <td>NaN</td>\n",
       "      <td>Tex. 32nd Jud. Dist. Ct.</td>\n",
       "      <td>Texas 32nd Judicial District Court</td>\n",
       "      <td>http://www.districtcourt32.org/</td>\n",
       "      <td>NaN</td>\n",
       "      <td>NaN</td>\n",
       "      <td>ST</td>\n",
       "    </tr>\n",
       "    <tr>\n",
       "      <th>959</th>\n",
       "      <td>calmunctla</td>\n",
       "      <td>NaN</td>\n",
       "      <td>NaN</td>\n",
       "      <td>NaN</td>\n",
       "      <td>2021-08-20 21:54:53.114+00</td>\n",
       "      <td>f</td>\n",
       "      <td>f</td>\n",
       "      <td>f</td>\n",
       "      <td>350.7190</td>\n",
       "      <td>Cal. Mun. Ct. (Los Angeles)</td>\n",
       "      <td>California Municipal Court, Los Angeles County</td>\n",
       "      <td>Municipal Court of California, County of Los A...</td>\n",
       "      <td>http://www.lacourt.org/</td>\n",
       "      <td>NaN</td>\n",
       "      <td>2001-01-01</td>\n",
       "      <td>ST</td>\n",
       "    </tr>\n",
       "  </tbody>\n",
       "</table>\n",
       "</div>"
      ],
      "text/plain": [
       "                id  pacer_court_id pacer_has_rss_feed fjc_court_id  \\\n",
       "1497  texdistct202             NaN                NaN          NaN   \n",
       "1329   texdistct33             NaN                NaN          NaN   \n",
       "959     calmunctla             NaN                NaN          NaN   \n",
       "\n",
       "                      date_modified in_use has_opinion_scraper  \\\n",
       "1497   2022-06-13 13:38:09.25745+00      f                   f   \n",
       "1329  2022-06-13 13:38:08.900235+00      f                   f   \n",
       "959      2021-08-20 21:54:53.114+00      f                   f   \n",
       "\n",
       "     has_oral_argument_scraper  position              citation_string  \\\n",
       "1497                         f  368.7227                          NaN   \n",
       "1329                         f  368.7058                          NaN   \n",
       "959                          f  350.7190  Cal. Mun. Ct. (Los Angeles)   \n",
       "\n",
       "                                          short_name  \\\n",
       "1497                       Tex. 201st Jud. Dist. Ct.   \n",
       "1329                        Tex. 32nd Jud. Dist. Ct.   \n",
       "959   California Municipal Court, Los Angeles County   \n",
       "\n",
       "                                              full_name  \\\n",
       "1497                Texas 201st Judicial District Court   \n",
       "1329                 Texas 32nd Judicial District Court   \n",
       "959   Municipal Court of California, County of Los A...   \n",
       "\n",
       "                                                    url start_date  \\\n",
       "1497  https://www.traviscountytx.gov/courts/civil/di...        NaN   \n",
       "1329                    http://www.districtcourt32.org/        NaN   \n",
       "959                             http://www.lacourt.org/        NaN   \n",
       "\n",
       "        end_date jurisdiction  \n",
       "1497         NaN           ST  \n",
       "1329         NaN           ST  \n",
       "959   2001-01-01           ST  "
      ]
     },
     "execution_count": 18,
     "metadata": {},
     "output_type": "execute_result"
    }
   ],
   "source": [
    "df_courts.sample(3)"
   ]
  },
  {
   "cell_type": "markdown",
   "id": "2287102e",
   "metadata": {},
   "source": [
    "## Dockets"
   ]
  },
  {
   "cell_type": "code",
   "execution_count": 19,
   "id": "9241e964",
   "metadata": {
    "scrolled": false
   },
   "outputs": [],
   "source": [
    "parse_dates = [\n",
    "    'date_cert_granted', \n",
    "    'date_cert_denied', \n",
    "    'date_argued',\n",
    "    'date_reargued',\n",
    "    'date_reargument_denied',\n",
    "    'date_filed',\n",
    "    'date_terminated',\n",
    "    'date_last_filing',\n",
    "    'date_blocked'\n",
    "    \n",
    "]\n",
    "my_types = {\n",
    "    'appeal_from_str': 'string',\n",
    "    'assigned_to_str': 'string',\n",
    "    'referred_to_str': 'string',\n",
    "    'case_name_short' : 'string',\n",
    "    'case_name': 'string',\n",
    "    'case_name_full': 'string',\n",
    "    'court_id': 'string',\n",
    "    'cause':'string',\n",
    "    'nature_of_suit':'string',\n",
    "    'jury_demand':'string',\n",
    "    'jurisdiction_type':'string',\n",
    "    'appellate_fee_status':'string',\n",
    "    'appellate_case_type_information':'string',\n",
    "    'mdl_status':'string',\n",
    "    'filepath_ia':'string',\n",
    "}"
   ]
  },
  {
   "cell_type": "code",
   "execution_count": 21,
   "id": "7fd004df",
   "metadata": {},
   "outputs": [
    {
     "name": "stdout",
     "output_type": "stream",
     "text": [
      "File Size is : 18.49 GB\n",
      "Importing dockets-2022-12-31.csv as a dataframe\n"
     ]
    },
    {
     "name": "stderr",
     "output_type": "stream",
     "text": [
      "/var/folders/rj/v64qwmcn24jgn090vgn_qr_c0000gq/T/ipykernel_3317/1573634745.py:5: DtypeWarning: Columns (7,22,34) have mixed types. Specify dtype option on import or set low_memory=False.\n",
      "  for df in pd.read_csv(filename, chunksize=max_rows, dtype=dtype,\n",
      "/var/folders/rj/v64qwmcn24jgn090vgn_qr_c0000gq/T/ipykernel_3317/1573634745.py:5: DtypeWarning: Columns (7,20,22,31,34) have mixed types. Specify dtype option on import or set low_memory=False.\n",
      "  for df in pd.read_csv(filename, chunksize=max_rows, dtype=dtype,\n",
      "/var/folders/rj/v64qwmcn24jgn090vgn_qr_c0000gq/T/ipykernel_3317/1573634745.py:5: DtypeWarning: Columns (7,22,34) have mixed types. Specify dtype option on import or set low_memory=False.\n",
      "  for df in pd.read_csv(filename, chunksize=max_rows, dtype=dtype,\n",
      "/var/folders/rj/v64qwmcn24jgn090vgn_qr_c0000gq/T/ipykernel_3317/1573634745.py:5: DtypeWarning: Columns (7,22,34) have mixed types. Specify dtype option on import or set low_memory=False.\n",
      "  for df in pd.read_csv(filename, chunksize=max_rows, dtype=dtype,\n",
      "/var/folders/rj/v64qwmcn24jgn090vgn_qr_c0000gq/T/ipykernel_3317/1573634745.py:5: DtypeWarning: Columns (7,22,34) have mixed types. Specify dtype option on import or set low_memory=False.\n",
      "  for df in pd.read_csv(filename, chunksize=max_rows, dtype=dtype,\n",
      "/var/folders/rj/v64qwmcn24jgn090vgn_qr_c0000gq/T/ipykernel_3317/1573634745.py:5: DtypeWarning: Columns (7,22,34) have mixed types. Specify dtype option on import or set low_memory=False.\n",
      "  for df in pd.read_csv(filename, chunksize=max_rows, dtype=dtype,\n",
      "/var/folders/rj/v64qwmcn24jgn090vgn_qr_c0000gq/T/ipykernel_3317/1573634745.py:5: DtypeWarning: Columns (7,22,34) have mixed types. Specify dtype option on import or set low_memory=False.\n",
      "  for df in pd.read_csv(filename, chunksize=max_rows, dtype=dtype,\n"
     ]
    },
    {
     "name": "stdout",
     "output_type": "stream",
     "text": [
      "dockets-2022-12-31.csv read in 16 minutes\n"
     ]
    }
   ],
   "source": [
    "dockets_filename = 'dockets-2022-12-31.csv'\n",
    "file_size = os.path.getsize(dockets_filename)\n",
    "dfs_dockets = csv_to_df(dockets_filename, dtype=my_types, parse_dates=parse_dates)"
   ]
  },
  {
   "cell_type": "code",
   "execution_count": 671,
   "id": "cb28b3f2",
   "metadata": {},
   "outputs": [
    {
     "data": {
      "text/plain": [
       "id                                           int64\n",
       "date_created                                object\n",
       "date_modified                               object\n",
       "source                                       int64\n",
       "appeal_from_str                             string\n",
       "assigned_to_str                             string\n",
       "referred_to_str                             string\n",
       "panel_str                                   object\n",
       "date_cert_granted                   datetime64[ns]\n",
       "date_cert_denied                    datetime64[ns]\n",
       "date_argued                         datetime64[ns]\n",
       "date_reargued                       datetime64[ns]\n",
       "date_reargument_denied              datetime64[ns]\n",
       "date_filed                                  object\n",
       "date_terminated                             object\n",
       "date_last_filing                            object\n",
       "case_name_short                             string\n",
       "case_name                                   string\n",
       "case_name_full                              string\n",
       "slug                                        object\n",
       "docket_number                               object\n",
       "docket_number_core                         float64\n",
       "pacer_case_id                               object\n",
       "cause                                       string\n",
       "nature_of_suit                              string\n",
       "jury_demand                                 string\n",
       "jurisdiction_type                           string\n",
       "appellate_fee_status                        string\n",
       "appellate_case_type_information             string\n",
       "mdl_status                                  string\n",
       "filepath_ia                                 string\n",
       "filepath_ia_json                            object\n",
       "date_blocked                        datetime64[ns]\n",
       "blocked                                     object\n",
       "appeal_from_id                              object\n",
       "assigned_to_id                             float64\n",
       "court_id                                    string\n",
       "idb_data_id                                float64\n",
       "originating_court_information_id           float64\n",
       "referred_to_id                             float64\n",
       "dtype: object"
      ]
     },
     "execution_count": 671,
     "metadata": {},
     "output_type": "execute_result"
    }
   ],
   "source": [
    "dfs_dockets.dtypes"
   ]
  },
  {
   "cell_type": "code",
   "execution_count": 78,
   "id": "8d4a13c3",
   "metadata": {},
   "outputs": [
    {
     "data": {
      "text/plain": [
       "65113781"
      ]
     },
     "execution_count": 78,
     "metadata": {},
     "output_type": "execute_result"
    }
   ],
   "source": [
    "len(dfs_dockets)"
   ]
  },
  {
   "cell_type": "code",
   "execution_count": 23,
   "id": "355e9f8b",
   "metadata": {
    "scrolled": true
   },
   "outputs": [
    {
     "data": {
      "text/html": [
       "<div>\n",
       "<style scoped>\n",
       "    .dataframe tbody tr th:only-of-type {\n",
       "        vertical-align: middle;\n",
       "    }\n",
       "\n",
       "    .dataframe tbody tr th {\n",
       "        vertical-align: top;\n",
       "    }\n",
       "\n",
       "    .dataframe thead th {\n",
       "        text-align: right;\n",
       "    }\n",
       "</style>\n",
       "<table border=\"1\" class=\"dataframe\">\n",
       "  <thead>\n",
       "    <tr style=\"text-align: right;\">\n",
       "      <th></th>\n",
       "      <th>id</th>\n",
       "      <th>date_created</th>\n",
       "      <th>date_modified</th>\n",
       "      <th>source</th>\n",
       "      <th>appeal_from_str</th>\n",
       "      <th>assigned_to_str</th>\n",
       "      <th>referred_to_str</th>\n",
       "      <th>panel_str</th>\n",
       "      <th>date_cert_granted</th>\n",
       "      <th>date_cert_denied</th>\n",
       "      <th>date_argued</th>\n",
       "      <th>date_reargued</th>\n",
       "      <th>date_reargument_denied</th>\n",
       "      <th>date_filed</th>\n",
       "      <th>date_terminated</th>\n",
       "      <th>date_last_filing</th>\n",
       "      <th>case_name_short</th>\n",
       "      <th>case_name</th>\n",
       "      <th>case_name_full</th>\n",
       "      <th>slug</th>\n",
       "      <th>docket_number</th>\n",
       "      <th>docket_number_core</th>\n",
       "      <th>pacer_case_id</th>\n",
       "      <th>cause</th>\n",
       "      <th>nature_of_suit</th>\n",
       "      <th>jury_demand</th>\n",
       "      <th>jurisdiction_type</th>\n",
       "      <th>appellate_fee_status</th>\n",
       "      <th>appellate_case_type_information</th>\n",
       "      <th>mdl_status</th>\n",
       "      <th>filepath_ia</th>\n",
       "      <th>filepath_ia_json</th>\n",
       "      <th>date_blocked</th>\n",
       "      <th>blocked</th>\n",
       "      <th>appeal_from_id</th>\n",
       "      <th>assigned_to_id</th>\n",
       "      <th>court_id</th>\n",
       "      <th>idb_data_id</th>\n",
       "      <th>originating_court_information_id</th>\n",
       "      <th>referred_to_id</th>\n",
       "    </tr>\n",
       "  </thead>\n",
       "  <tbody>\n",
       "    <tr>\n",
       "      <th>0</th>\n",
       "      <td>4500079</td>\n",
       "      <td>2016-11-15 10:09:28.299713+00</td>\n",
       "      <td>2021-02-01 20:43:29.984241+00</td>\n",
       "      <td>1</td>\n",
       "      <td>&lt;NA&gt;</td>\n",
       "      <td>Roberta A. Colton</td>\n",
       "      <td>&lt;NA&gt;</td>\n",
       "      <td>NaN</td>\n",
       "      <td>NaT</td>\n",
       "      <td>NaT</td>\n",
       "      <td>NaT</td>\n",
       "      <td>NaT</td>\n",
       "      <td>NaT</td>\n",
       "      <td>2016-08-22 00:00:00</td>\n",
       "      <td>2016-11-29</td>\n",
       "      <td>2016-12-01</td>\n",
       "      <td>&lt;NA&gt;</td>\n",
       "      <td>Inael Berrios and Joan Radaha</td>\n",
       "      <td>&lt;NA&gt;</td>\n",
       "      <td>inael-berrios-and-joan-radaha</td>\n",
       "      <td>6:16-bk-05556</td>\n",
       "      <td>1605556.0</td>\n",
       "      <td>1215335</td>\n",
       "      <td>&lt;NA&gt;</td>\n",
       "      <td>&lt;NA&gt;</td>\n",
       "      <td>&lt;NA&gt;</td>\n",
       "      <td>&lt;NA&gt;</td>\n",
       "      <td>&lt;NA&gt;</td>\n",
       "      <td>&lt;NA&gt;</td>\n",
       "      <td>&lt;NA&gt;</td>\n",
       "      <td>https://www.archive.org/download/gov.uscourts....</td>\n",
       "      <td>https://archive.org/download/gov.uscourts.flmb...</td>\n",
       "      <td>2017-02-18</td>\n",
       "      <td>t</td>\n",
       "      <td>NaN</td>\n",
       "      <td>8743.0</td>\n",
       "      <td>flmb</td>\n",
       "      <td>NaN</td>\n",
       "      <td>NaN</td>\n",
       "      <td>NaN</td>\n",
       "    </tr>\n",
       "    <tr>\n",
       "      <th>1</th>\n",
       "      <td>15096520</td>\n",
       "      <td>2019-05-10 19:46:15.337613+00</td>\n",
       "      <td>2021-01-30 09:44:08.297394+00</td>\n",
       "      <td>1</td>\n",
       "      <td>&lt;NA&gt;</td>\n",
       "      <td>Pamela S. Hollis</td>\n",
       "      <td>&lt;NA&gt;</td>\n",
       "      <td>NaN</td>\n",
       "      <td>NaT</td>\n",
       "      <td>NaT</td>\n",
       "      <td>NaT</td>\n",
       "      <td>NaT</td>\n",
       "      <td>NaT</td>\n",
       "      <td>2005-05-31 00:00:00</td>\n",
       "      <td>2008-10-23</td>\n",
       "      <td>2008-10-23</td>\n",
       "      <td>&lt;NA&gt;</td>\n",
       "      <td>Matthew A Polich and Diane M Polich</td>\n",
       "      <td>&lt;NA&gt;</td>\n",
       "      <td>matthew-a-polich-and-diane-m-polich</td>\n",
       "      <td>05-21638</td>\n",
       "      <td>5021638.0</td>\n",
       "      <td>799218</td>\n",
       "      <td>&lt;NA&gt;</td>\n",
       "      <td>&lt;NA&gt;</td>\n",
       "      <td>&lt;NA&gt;</td>\n",
       "      <td>&lt;NA&gt;</td>\n",
       "      <td>&lt;NA&gt;</td>\n",
       "      <td>&lt;NA&gt;</td>\n",
       "      <td>&lt;NA&gt;</td>\n",
       "      <td>&lt;NA&gt;</td>\n",
       "      <td>NaN</td>\n",
       "      <td>2019-05-10</td>\n",
       "      <td>t</td>\n",
       "      <td>NaN</td>\n",
       "      <td>8793.0</td>\n",
       "      <td>ilnb</td>\n",
       "      <td>NaN</td>\n",
       "      <td>NaN</td>\n",
       "      <td>NaN</td>\n",
       "    </tr>\n",
       "    <tr>\n",
       "      <th>2</th>\n",
       "      <td>4521872</td>\n",
       "      <td>2016-11-15 11:37:00.843754+00</td>\n",
       "      <td>2021-01-24 08:05:59.770187+00</td>\n",
       "      <td>1</td>\n",
       "      <td>&lt;NA&gt;</td>\n",
       "      <td>Martin Glenn</td>\n",
       "      <td>&lt;NA&gt;</td>\n",
       "      <td>NaN</td>\n",
       "      <td>NaT</td>\n",
       "      <td>NaT</td>\n",
       "      <td>NaT</td>\n",
       "      <td>NaT</td>\n",
       "      <td>NaT</td>\n",
       "      <td>2011-11-14 00:00:00</td>\n",
       "      <td>2016-04-04</td>\n",
       "      <td>2016-04-04</td>\n",
       "      <td>Sivova</td>\n",
       "      <td>Sivova v. MF Global Holdings Ltd.</td>\n",
       "      <td>&lt;NA&gt;</td>\n",
       "      <td>sivova-v-mf-global-holdings-ltd</td>\n",
       "      <td>11-02881</td>\n",
       "      <td>11002881.0</td>\n",
       "      <td>221903</td>\n",
       "      <td>&lt;NA&gt;</td>\n",
       "      <td>&lt;NA&gt;</td>\n",
       "      <td>&lt;NA&gt;</td>\n",
       "      <td>&lt;NA&gt;</td>\n",
       "      <td>&lt;NA&gt;</td>\n",
       "      <td>&lt;NA&gt;</td>\n",
       "      <td>&lt;NA&gt;</td>\n",
       "      <td>https://www.archive.org/download/gov.uscourts....</td>\n",
       "      <td>https://archive.org/download/gov.uscourts.nysb...</td>\n",
       "      <td>2017-02-19</td>\n",
       "      <td>t</td>\n",
       "      <td>NaN</td>\n",
       "      <td>8905.0</td>\n",
       "      <td>nysb</td>\n",
       "      <td>NaN</td>\n",
       "      <td>NaN</td>\n",
       "      <td>NaN</td>\n",
       "    </tr>\n",
       "  </tbody>\n",
       "</table>\n",
       "</div>"
      ],
      "text/plain": [
       "         id                   date_created                  date_modified  \\\n",
       "0   4500079  2016-11-15 10:09:28.299713+00  2021-02-01 20:43:29.984241+00   \n",
       "1  15096520  2019-05-10 19:46:15.337613+00  2021-01-30 09:44:08.297394+00   \n",
       "2   4521872  2016-11-15 11:37:00.843754+00  2021-01-24 08:05:59.770187+00   \n",
       "\n",
       "   source appeal_from_str    assigned_to_str referred_to_str panel_str  \\\n",
       "0       1            <NA>  Roberta A. Colton            <NA>       NaN   \n",
       "1       1            <NA>   Pamela S. Hollis            <NA>       NaN   \n",
       "2       1            <NA>       Martin Glenn            <NA>       NaN   \n",
       "\n",
       "  date_cert_granted date_cert_denied date_argued date_reargued  \\\n",
       "0               NaT              NaT         NaT           NaT   \n",
       "1               NaT              NaT         NaT           NaT   \n",
       "2               NaT              NaT         NaT           NaT   \n",
       "\n",
       "  date_reargument_denied           date_filed date_terminated  \\\n",
       "0                    NaT  2016-08-22 00:00:00      2016-11-29   \n",
       "1                    NaT  2005-05-31 00:00:00      2008-10-23   \n",
       "2                    NaT  2011-11-14 00:00:00      2016-04-04   \n",
       "\n",
       "  date_last_filing case_name_short                            case_name  \\\n",
       "0       2016-12-01            <NA>        Inael Berrios and Joan Radaha   \n",
       "1       2008-10-23            <NA>  Matthew A Polich and Diane M Polich   \n",
       "2       2016-04-04          Sivova    Sivova v. MF Global Holdings Ltd.   \n",
       "\n",
       "  case_name_full                                 slug  docket_number  \\\n",
       "0           <NA>        inael-berrios-and-joan-radaha  6:16-bk-05556   \n",
       "1           <NA>  matthew-a-polich-and-diane-m-polich       05-21638   \n",
       "2           <NA>      sivova-v-mf-global-holdings-ltd       11-02881   \n",
       "\n",
       "   docket_number_core pacer_case_id cause nature_of_suit jury_demand  \\\n",
       "0           1605556.0       1215335  <NA>           <NA>        <NA>   \n",
       "1           5021638.0        799218  <NA>           <NA>        <NA>   \n",
       "2          11002881.0        221903  <NA>           <NA>        <NA>   \n",
       "\n",
       "  jurisdiction_type appellate_fee_status appellate_case_type_information  \\\n",
       "0              <NA>                 <NA>                            <NA>   \n",
       "1              <NA>                 <NA>                            <NA>   \n",
       "2              <NA>                 <NA>                            <NA>   \n",
       "\n",
       "  mdl_status                                        filepath_ia  \\\n",
       "0       <NA>  https://www.archive.org/download/gov.uscourts....   \n",
       "1       <NA>                                               <NA>   \n",
       "2       <NA>  https://www.archive.org/download/gov.uscourts....   \n",
       "\n",
       "                                    filepath_ia_json date_blocked blocked  \\\n",
       "0  https://archive.org/download/gov.uscourts.flmb...   2017-02-18       t   \n",
       "1                                                NaN   2019-05-10       t   \n",
       "2  https://archive.org/download/gov.uscourts.nysb...   2017-02-19       t   \n",
       "\n",
       "  appeal_from_id  assigned_to_id court_id  idb_data_id  \\\n",
       "0            NaN          8743.0     flmb          NaN   \n",
       "1            NaN          8793.0     ilnb          NaN   \n",
       "2            NaN          8905.0     nysb          NaN   \n",
       "\n",
       "   originating_court_information_id  referred_to_id  \n",
       "0                               NaN             NaN  \n",
       "1                               NaN             NaN  \n",
       "2                               NaN             NaN  "
      ]
     },
     "execution_count": 23,
     "metadata": {},
     "output_type": "execute_result"
    }
   ],
   "source": [
    "dfs_dockets.head(3)"
   ]
  },
  {
   "cell_type": "markdown",
   "id": "c821cbc5",
   "metadata": {},
   "source": [
    "## Opinion Clusters"
   ]
  },
  {
   "cell_type": "code",
   "execution_count": 24,
   "id": "81876475",
   "metadata": {},
   "outputs": [
    {
     "name": "stdout",
     "output_type": "stream",
     "text": [
      "File Size is : 6.7 GB\n",
      "Importing opinion-clusters-2022-12-31.csv as a dataframe\n"
     ]
    },
    {
     "name": "stderr",
     "output_type": "stream",
     "text": [
      "/var/folders/rj/v64qwmcn24jgn090vgn_qr_c0000gq/T/ipykernel_3317/1573634745.py:5: DtypeWarning: Columns (10,17,18,19,20,21,22,23,24,25,26,29) have mixed types. Specify dtype option on import or set low_memory=False.\n",
      "  for df in pd.read_csv(filename, chunksize=max_rows, dtype=dtype,\n"
     ]
    },
    {
     "name": "stdout",
     "output_type": "stream",
     "text": [
      "opinion-clusters-2022-12-31.csv read in 2 minutes\n"
     ]
    }
   ],
   "source": [
    "opinion_clusters_filename ='opinion-clusters-2022-12-31.csv'\n",
    "df_opinion_clusters = csv_to_df(opinion_clusters_filename)"
   ]
  },
  {
   "cell_type": "code",
   "execution_count": 25,
   "id": "e0b8fc7d",
   "metadata": {},
   "outputs": [
    {
     "data": {
      "text/plain": [
       "Index(['id', 'date_created', 'date_modified', 'judges', 'date_filed',\n",
       "       'date_filed_is_approximate', 'slug', 'case_name_short', 'case_name',\n",
       "       'case_name_full', 'scdb_id', 'scdb_decision_direction',\n",
       "       'scdb_votes_majority', 'scdb_votes_minority', 'source',\n",
       "       'procedural_history', 'attorneys', 'nature_of_suit', 'posture',\n",
       "       'syllabus', 'headnotes', 'summary', 'disposition', 'history',\n",
       "       'other_dates', 'cross_reference', 'correction', 'citation_count',\n",
       "       'precedential_status', 'date_blocked', 'blocked', 'docket_id'],\n",
       "      dtype='object')"
      ]
     },
     "execution_count": 25,
     "metadata": {},
     "output_type": "execute_result"
    }
   ],
   "source": [
    "df_opinion_clusters.columns"
   ]
  },
  {
   "cell_type": "markdown",
   "id": "2d28b2ca",
   "metadata": {},
   "source": [
    "## Citation Map"
   ]
  },
  {
   "cell_type": "code",
   "execution_count": 45,
   "id": "d3f18f5e",
   "metadata": {
    "scrolled": true
   },
   "outputs": [
    {
     "name": "stdout",
     "output_type": "stream",
     "text": [
      "File Size is : 0.79 GB\n",
      "Importing citation-map-2022-12-31.csv as a dataframe\n",
      "citation-map-2022-12-31.csv read in 0 minutes\n"
     ]
    }
   ],
   "source": [
    "citation_map_filename = 'citation-map-2022-12-31.csv'\n",
    "df_citation_map = csv_to_df(citation_map_filename)\n"
   ]
  },
  {
   "cell_type": "code",
   "execution_count": 47,
   "id": "c9f876d7",
   "metadata": {
    "scrolled": true
   },
   "outputs": [
    {
     "data": {
      "text/html": [
       "<div>\n",
       "<style scoped>\n",
       "    .dataframe tbody tr th:only-of-type {\n",
       "        vertical-align: middle;\n",
       "    }\n",
       "\n",
       "    .dataframe tbody tr th {\n",
       "        vertical-align: top;\n",
       "    }\n",
       "\n",
       "    .dataframe thead th {\n",
       "        text-align: right;\n",
       "    }\n",
       "</style>\n",
       "<table border=\"1\" class=\"dataframe\">\n",
       "  <thead>\n",
       "    <tr style=\"text-align: right;\">\n",
       "      <th></th>\n",
       "      <th>id</th>\n",
       "      <th>depth</th>\n",
       "      <th>cited_opinion_id</th>\n",
       "      <th>citing_opinion_id</th>\n",
       "    </tr>\n",
       "  </thead>\n",
       "  <tbody>\n",
       "    <tr>\n",
       "      <th>23391543</th>\n",
       "      <td>192016310</td>\n",
       "      <td>1</td>\n",
       "      <td>40554</td>\n",
       "      <td>40555</td>\n",
       "    </tr>\n",
       "    <tr>\n",
       "      <th>19823623</th>\n",
       "      <td>178094740</td>\n",
       "      <td>2</td>\n",
       "      <td>3888713</td>\n",
       "      <td>3393974</td>\n",
       "    </tr>\n",
       "    <tr>\n",
       "      <th>6292940</th>\n",
       "      <td>119869467</td>\n",
       "      <td>4</td>\n",
       "      <td>102604</td>\n",
       "      <td>1380429</td>\n",
       "    </tr>\n",
       "  </tbody>\n",
       "</table>\n",
       "</div>"
      ],
      "text/plain": [
       "                 id  depth  cited_opinion_id  citing_opinion_id\n",
       "23391543  192016310      1             40554              40555\n",
       "19823623  178094740      2           3888713            3393974\n",
       "6292940   119869467      4            102604            1380429"
      ]
     },
     "execution_count": 47,
     "metadata": {},
     "output_type": "execute_result"
    }
   ],
   "source": [
    "df_citation_map.sample(3)"
   ]
  },
  {
   "cell_type": "markdown",
   "id": "8b3326d3",
   "metadata": {},
   "source": [
    "## Get Opinions"
   ]
  },
  {
   "cell_type": "markdown",
   "id": "b6c02dc9",
   "metadata": {},
   "source": [
    "Read a million rows divided into 10 data frames"
   ]
  },
  {
   "cell_type": "code",
   "execution_count": 682,
   "id": "82cee60d",
   "metadata": {},
   "outputs": [
    {
     "data": {
      "text/plain": [
       "id                       int64\n",
       "date_created            object\n",
       "date_modified           object\n",
       "author_str              object\n",
       "per_curiam              object\n",
       "joined_by_str          float64\n",
       "type                    object\n",
       "sha1                    object\n",
       "page_count             float64\n",
       "download_url            string\n",
       "local_path              string\n",
       "plain_text              string\n",
       "html                    string\n",
       "html_lawbox             string\n",
       "html_columbia           string\n",
       "html_anon_2020          string\n",
       "xml_harvard             object\n",
       "html_with_citations     string\n",
       "extracted_by_ocr        object\n",
       "author_id              float64\n",
       "cluster_id               int64\n",
       "dtype: object"
      ]
     },
     "execution_count": 682,
     "metadata": {},
     "output_type": "execute_result"
    }
   ],
   "source": [
    "df_opinions.dtypes"
   ]
  },
  {
   "cell_type": "code",
   "execution_count": null,
   "id": "825159dd",
   "metadata": {},
   "outputs": [],
   "source": []
  },
  {
   "cell_type": "code",
   "execution_count": 676,
   "id": "013f5c0f",
   "metadata": {},
   "outputs": [],
   "source": [
    "opinion_dtypes = {\n",
    "    'download_url': 'string',\n",
    "    'local_path':'string',\n",
    "    'plain_text':'string',\n",
    "    'html':'string',\n",
    "    'html_lawbox':'string',\n",
    "    'html_columbia':'string',\n",
    "    'html_anon_2020':'string',\n",
    "    'html_with_citations':'string',\n",
    "    'local_path':'string'\n",
    "}"
   ]
  },
  {
   "cell_type": "code",
   "execution_count": 677,
   "id": "459bf074",
   "metadata": {
    "scrolled": true
   },
   "outputs": [],
   "source": [
    "# get memory size & limit to 1/3 of available memory\n",
    "opinions_filename = 'opinions-2022-12-31.csv'\n",
    "num_dfs = 1\n",
    "dfs_opinions = read_csv_as_dfs(opinions_filename, num_dfs=num_dfs, dtype=opinion_dtypes)"
   ]
  },
  {
   "cell_type": "code",
   "execution_count": 681,
   "id": "2cd22f9e",
   "metadata": {},
   "outputs": [],
   "source": [
    "df_opinions = dfs_opinions[0]"
   ]
  },
  {
   "cell_type": "code",
   "execution_count": null,
   "id": "179e96ec",
   "metadata": {},
   "outputs": [],
   "source": [
    "df"
   ]
  },
  {
   "cell_type": "code",
   "execution_count": null,
   "id": "f023af0e",
   "metadata": {},
   "outputs": [],
   "source": [
    "#dfs_opinions[0].loc[dfs_opinions[0]['id'] == 7954541]"
   ]
  },
  {
   "cell_type": "code",
   "execution_count": 35,
   "id": "173122f1",
   "metadata": {},
   "outputs": [],
   "source": [
    "df_opinions = pd.concat(dfs_opinions)"
   ]
  },
  {
   "cell_type": "code",
   "execution_count": 695,
   "id": "d47e27c6",
   "metadata": {},
   "outputs": [],
   "source": [
    "mask = (\n",
    "        df_opinions[('plain_text')].notna() |\n",
    "        df_opinions[('html')].notna() |\n",
    "        df_opinions[('html_lawbox')].notna() |\n",
    "        df_opinions[('html_columbia')].notna() |\n",
    "        df_opinions[('xml_harvard')].notna() |\n",
    "        df_opinions[('html_anon_2020')].notna()\n",
    "\n",
    "       )"
   ]
  },
  {
   "cell_type": "code",
   "execution_count": 696,
   "id": "29b63f33",
   "metadata": {},
   "outputs": [],
   "source": [
    "texts = df_opinions[mask][[\n",
    "        'plain_text',\n",
    "        'html',\n",
    "        'html_lawbox',\n",
    "        'html_columbia',\n",
    "        'xml_harvard',\n",
    "        'html_anon_2020'\n",
    "    \n",
    "]]"
   ]
  },
  {
   "cell_type": "code",
   "execution_count": 697,
   "id": "3e19e508",
   "metadata": {},
   "outputs": [],
   "source": [
    "labels = pd.Series(['plain_text',\n",
    "        'html',\n",
    "        'html_lawbox',\n",
    "        'html_columbia',\n",
    "        'xml_harvard',\n",
    "        'html_anon_2020'])"
   ]
  },
  {
   "cell_type": "code",
   "execution_count": 698,
   "id": "4a3d88f0",
   "metadata": {},
   "outputs": [
    {
     "data": {
      "text/plain": [
       "100000"
      ]
     },
     "execution_count": 698,
     "metadata": {},
     "output_type": "execute_result"
    }
   ],
   "source": [
    "len(df_opinions)"
   ]
  },
  {
   "cell_type": "code",
   "execution_count": 699,
   "id": "a80567e2",
   "metadata": {},
   "outputs": [],
   "source": [
    "amt = pd.Series([len(texts[label].dropna()) \n",
    "                    for label in labels])/len(texts)"
   ]
  },
  {
   "cell_type": "code",
   "execution_count": 700,
   "id": "e35bbc23",
   "metadata": {},
   "outputs": [],
   "source": [
    "df_opinions_chart = pd.DataFrame({'source':source, 'amount':amt})"
   ]
  },
  {
   "cell_type": "code",
   "execution_count": 701,
   "id": "4a07c626",
   "metadata": {},
   "outputs": [
    {
     "data": {
      "text/html": [
       "<div>\n",
       "<style scoped>\n",
       "    .dataframe tbody tr th:only-of-type {\n",
       "        vertical-align: middle;\n",
       "    }\n",
       "\n",
       "    .dataframe tbody tr th {\n",
       "        vertical-align: top;\n",
       "    }\n",
       "\n",
       "    .dataframe thead th {\n",
       "        text-align: right;\n",
       "    }\n",
       "</style>\n",
       "<table border=\"1\" class=\"dataframe\">\n",
       "  <thead>\n",
       "    <tr style=\"text-align: right;\">\n",
       "      <th></th>\n",
       "      <th>source</th>\n",
       "      <th>amount</th>\n",
       "    </tr>\n",
       "  </thead>\n",
       "  <tbody>\n",
       "    <tr>\n",
       "      <th>0</th>\n",
       "      <td>plain_text</td>\n",
       "      <td>0.093191</td>\n",
       "    </tr>\n",
       "    <tr>\n",
       "      <th>1</th>\n",
       "      <td>html</td>\n",
       "      <td>0.030570</td>\n",
       "    </tr>\n",
       "    <tr>\n",
       "      <th>2</th>\n",
       "      <td>html_lawbox</td>\n",
       "      <td>0.050606</td>\n",
       "    </tr>\n",
       "    <tr>\n",
       "      <th>3</th>\n",
       "      <td>html_columbia</td>\n",
       "      <td>0.000691</td>\n",
       "    </tr>\n",
       "    <tr>\n",
       "      <th>4</th>\n",
       "      <td>xml_harvard</td>\n",
       "      <td>0.829408</td>\n",
       "    </tr>\n",
       "    <tr>\n",
       "      <th>5</th>\n",
       "      <td>html_anon_2020</td>\n",
       "      <td>0.001151</td>\n",
       "    </tr>\n",
       "  </tbody>\n",
       "</table>\n",
       "</div>"
      ],
      "text/plain": [
       "           source    amount\n",
       "0      plain_text  0.093191\n",
       "1            html  0.030570\n",
       "2     html_lawbox  0.050606\n",
       "3   html_columbia  0.000691\n",
       "4     xml_harvard  0.829408\n",
       "5  html_anon_2020  0.001151"
      ]
     },
     "execution_count": 701,
     "metadata": {},
     "output_type": "execute_result"
    }
   ],
   "source": [
    "df_opinions_chart"
   ]
  },
  {
   "cell_type": "markdown",
   "id": "5c748006",
   "metadata": {},
   "source": [
    "## Mapping"
   ]
  },
  {
   "cell_type": "code",
   "execution_count": 49,
   "id": "4a020705",
   "metadata": {},
   "outputs": [
    {
     "data": {
      "text/plain": [
       "dict"
      ]
     },
     "execution_count": 49,
     "metadata": {},
     "output_type": "execute_result"
    }
   ],
   "source": [
    "type(cap_json)"
   ]
  },
  {
   "cell_type": "code",
   "execution_count": 39,
   "id": "8aaf81a4",
   "metadata": {},
   "outputs": [],
   "source": [
    "cap_keys = list(cap_json.keys())"
   ]
  },
  {
   "cell_type": "code",
   "execution_count": 40,
   "id": "37531eea",
   "metadata": {},
   "outputs": [
    {
     "data": {
      "text/plain": [
       "['id', 'url', 'name', 'name_abbreviation', 'decision_date', 'docket_number', 'first_page', 'last_page', 'citations', 'volume', 'reporter', 'court', 'jurisdiction', 'cites_to', 'frontend_url', 'frontend_pdf_url', 'preview', 'analysis', 'last_updated', 'provenance']"
      ]
     },
     "execution_count": 40,
     "metadata": {},
     "output_type": "execute_result"
    }
   ],
   "source": [
    "cap_keys"
   ]
  },
  {
   "cell_type": "markdown",
   "id": "f1f1f4c1",
   "metadata": {},
   "source": [
    "## CourtListener"
   ]
  },
  {
   "cell_type": "code",
   "execution_count": 634,
   "id": "3f007736",
   "metadata": {},
   "outputs": [],
   "source": [
    "# taxonomy = {\n",
    "#     \"id\": 'opinions.id',\n",
    "#     'url' : 'opinions.local_path',\n",
    "#     'name_abbreviation': 'opinion_cluster.case_name',\n",
    "#     'name': 'opinion_cluster.case_name_full',\n",
    "#     'decision_date': 'docket.date_terminated',\n",
    "#     'docket_number':'cluster.docket_id',\n",
    "#     #'first_page': '',\n",
    "#     #'last_page': '',\n",
    "#     'citations': '', #citing_opinions that cited to this\n",
    "#     'cites_to' : 'id', #id as citing_opinion_id -> cited_opinion_id\n",
    "#     #'volume' : '',\n",
    "#     #'reporter' : '',\n",
    "#     'court' : {'name': 'courts.fullname'},\n",
    "#     'jurisdiction' : {'name':'courts.jurisdiction'},\n",
    "#     'casebody': {'status': 'ok',\n",
    "#         'data': {'judges': [],\n",
    "#             'head_matter': '',\n",
    "#             'opinions': [{\n",
    "#                 'text' : '',\n",
    "#                 'author': '',\n",
    "#                 'type' : ''\n",
    "#             }]\n",
    "                 \n",
    "#         },\n",
    "#     }\n",
    "# }"
   ]
  },
  {
   "cell_type": "markdown",
   "id": "a4245314",
   "metadata": {},
   "source": [
    "opinions.csv fields"
   ]
  },
  {
   "cell_type": "code",
   "execution_count": 249,
   "id": "39b50f1c",
   "metadata": {},
   "outputs": [
    {
     "data": {
      "text/plain": [
       "True"
      ]
     },
     "execution_count": 249,
     "metadata": {},
     "output_type": "execute_result"
    }
   ],
   "source": [
    "pd.isna(float(col_value(df_opinion['author_str'])))"
   ]
  },
  {
   "cell_type": "code",
   "execution_count": 50,
   "id": "aa9bd3b2",
   "metadata": {},
   "outputs": [],
   "source": [
    "def df_row_by_value(df, column, match):\n",
    "    return df.loc[df[column] == match]"
   ]
  },
  {
   "cell_type": "code",
   "execution_count": 51,
   "id": "ec4278d0",
   "metadata": {},
   "outputs": [],
   "source": [
    "def get_columns_series(df):\n",
    "    return [df[col] for col in list(df.columns)]"
   ]
  },
  {
   "cell_type": "code",
   "execution_count": 212,
   "id": "7125e42d",
   "metadata": {},
   "outputs": [],
   "source": [
    "def col_value(col):\n",
    "    if not col.isna():\n",
    "        return col.to_numpy()[0]"
   ]
  },
  {
   "cell_type": "code",
   "execution_count": 529,
   "id": "b26ee081",
   "metadata": {},
   "outputs": [],
   "source": [
    "def is_pd_series(col):\n",
    "    return isinstance(col, pd.core.series.Series)"
   ]
  },
  {
   "cell_type": "code",
   "execution_count": 711,
   "id": "52bb617a",
   "metadata": {},
   "outputs": [],
   "source": [
    "# accepts a series -- a row from a dataframe\n",
    "def get_opinion_text(opinion):\n",
    "    text = ''\n",
    "    pt = opinion.plain_text\n",
    "    hl = opinion.html\n",
    "    hlb = opinion.html_lawbox\n",
    "    hlc = opinion.html_columbia\n",
    "    xh = opinion.xml_harvard\n",
    "    hla = opinion.html_anon_2020\n",
    "    \n",
    "    if isinstance(pt, str):\n",
    "        text = pt\n",
    "    elif isinstance(hl, str):\n",
    "        text = hl\n",
    "    elif isinstance(hlb, str):\n",
    "        text = hlb\n",
    "    elif isinstance(hlc, str):\n",
    "        text = hlc \n",
    "    elif isinstance(xh, str):\n",
    "        text = xh \n",
    "    elif isinstance(hla, str):\n",
    "        text = hla\n",
    "    return text"
   ]
  },
  {
   "cell_type": "code",
   "execution_count": 712,
   "id": "a0241c3c",
   "metadata": {},
   "outputs": [
    {
     "data": {
      "text/plain": [
       "id                       int64\n",
       "date_created            object\n",
       "date_modified           object\n",
       "author_str              object\n",
       "per_curiam              object\n",
       "joined_by_str          float64\n",
       "type                    object\n",
       "sha1                    object\n",
       "page_count             float64\n",
       "download_url            string\n",
       "local_path              string\n",
       "plain_text              string\n",
       "html                    string\n",
       "html_lawbox             string\n",
       "html_columbia           string\n",
       "html_anon_2020          string\n",
       "xml_harvard             object\n",
       "html_with_citations     string\n",
       "extracted_by_ocr        object\n",
       "author_id              float64\n",
       "cluster_id               int64\n",
       "dtype: object"
      ]
     },
     "execution_count": 712,
     "metadata": {},
     "output_type": "execute_result"
    }
   ],
   "source": [
    "df_opinions.dtypes"
   ]
  },
  {
   "cell_type": "code",
   "execution_count": 713,
   "id": "ee0a6fb4",
   "metadata": {},
   "outputs": [],
   "source": [
    "def get_citations(opinion_id, df_citations):\n",
    "    cites_to = df_citations[df_citations['citing_opinion_id'] == opinion_id]['cited_opinion_id'].to_list()\n",
    "    cited_by = df_citations[df_citations['cited_opinion_id'] == opinion_id]['citing_opinion_id'].to_list()\n",
    "    return {\n",
    "        'cites_to':cites_to,\n",
    "        'cited_by':cited_by\n",
    "    }\n",
    "    "
   ]
  },
  {
   "cell_type": "code",
   "execution_count": 714,
   "id": "f41d8b01",
   "metadata": {},
   "outputs": [],
   "source": [
    "# accepts dataframes\n",
    "# opinion is a dataframe row! i.e. a dataframe with one row in it excluding headers\n",
    "def process(taxonomy:dict, opinion: DataFrame, opinion_clusters: DataFrame, courts: DataFrame, \n",
    "            dockets: DataFrame, citations: DataFrame) -> dict:\n",
    "    opinion_id = opinion['id']\n",
    "    cluster_id = opinion['cluster_id']\n",
    "    # get each corresponding row from clusters, dockets, courts based on opinion id\n",
    "    cluster_row: DataFrame = df_row_by_value(opinion_clusters, 'id', cluster_id)\n",
    "    # get corresponding row from docket df based on cluster opinion id\n",
    "    docket_id = int(cluster_row['docket_id'])\n",
    "    docket_row: DataFrame = dockets[dockets['id'] == docket_id]\n",
    "    # return early if there's \n",
    "    if docket_row.empty:\n",
    "        return \n",
    "    court_row: DataFrame = courts[courts['id'] == docket_row['court_id'].iloc[0]]\n",
    "    if court_row.empty:\n",
    "        return\n",
    "    #get opinions cited to\n",
    "    citation_info = get_citations(opinion_id, citations)\n",
    "    cites_to = citation_info['cites_to']\n",
    "    cited_by = citation_info['cited_by']\n",
    "    #judges\n",
    "    judges = cluster_row.judges\n",
    "        \n",
    "    obj = {\n",
    "        'id': cluster_id,\n",
    "        'url': opinion['download_url'],\n",
    "        'name_abbreviation': cluster_row.case_name.iloc[0],\n",
    "        'name' : cluster_row.case_name_full.iloc[0],\n",
    "        'decision_date': docket_row.date_terminated.iloc[0],\n",
    "        'docket_number' : cluster_row.docket_id.iloc[0],\n",
    "        'citations' : cited_by,\n",
    "        'cites_to' : cites_to,\n",
    "        'court' : {'name': court_row.full_name.iloc[0]},\n",
    "        'jurisdiction' : {'name': court_row.jurisdiction.iloc[0]},\n",
    "        'casebody' : {'data': {\n",
    "            'judges': judges.iloc[0].split(',') if judges.notna().bool() else [],\n",
    "            'head_matter':'', #Ask CL about copyright,\n",
    "            'opinions': [{\n",
    "                'text': get_opinion_text(opinion), \n",
    "                'author': '', 'type': ''}]\n",
    "            }\n",
    "        }\n",
    "\n",
    "    }\n",
    "    return obj"
   ]
  },
  {
   "cell_type": "code",
   "execution_count": 715,
   "id": "b4d6b983",
   "metadata": {},
   "outputs": [],
   "source": [
    "#get_opinion_text(df_opinions[df_opinions['id'] == 6326345])"
   ]
  },
  {
   "cell_type": "code",
   "execution_count": 716,
   "id": "5d7bae90",
   "metadata": {},
   "outputs": [
    {
     "name": "stdout",
     "output_type": "stream",
     "text": [
      "0.7072695269889664\n"
     ]
    }
   ],
   "source": [
    "start = time.perf_counter()\n",
    "jsonw = df_opinions.sample(5)[[\n",
    "            'id',\n",
    "            'local_path',\n",
    "            'download_url',\n",
    "            'cluster_id',\n",
    "            'xml_harvard',\n",
    "            'plain_text',\n",
    "            'html',\n",
    "            'html_lawbox',\n",
    "            'html_columbia',\n",
    "            'html_anon_2020'\n",
    "        ]].apply(\n",
    "        lambda row: process(\n",
    "            taxonomy, \n",
    "            row, # force row to be a DataFrame than series\n",
    "            df_opinion_clusters, \n",
    "            df_courts, \n",
    "            dfs_dockets, \n",
    "            df_citation_map)\n",
    "          ,\n",
    "        axis=1,\n",
    "        )\n",
    "end = time.perf_counter()\n",
    "print(end-start)\n"
   ]
  },
  {
   "cell_type": "code",
   "execution_count": 717,
   "id": "6938ff9c",
   "metadata": {},
   "outputs": [
    {
     "data": {
      "text/plain": [
       "{95364: {'id': 6108113,\n",
       "  'url': <NA>,\n",
       "  'name_abbreviation': 'Ramos v. New York City Housing Authority',\n",
       "  'name': 'Janet Ramos, an Infant, by Her Mother and Natural Guardian, Luz Ramos v. New York City Housing Authority',\n",
       "  'decision_date': nan,\n",
       "  'docket_number': 62468245,\n",
       "  'citations': [],\n",
       "  'cites_to': [],\n",
       "  'court': {'name': 'Appellate Division of the Supreme Court of the State of New York'},\n",
       "  'jurisdiction': {'name': 'SA'},\n",
       "  'casebody': {'data': {'judges': [],\n",
       "    'head_matter': '',\n",
       "    'opinions': [{'text': '<opinion type=\"majority\">\\n<p id=\"ApmL\">—In an action to recover damages for personal injuries, etc., the defendant New York City Housing Authority appeals from an order of the Supreme Court, Kings County (Greenstein, J.), dated March 23, 1992, which directed the appellant to produce its employee Heriberto Valentine for an examination before trial and to provide maintenance and/or repair records with regard to the claimed defective bench behind the premises at 725 Stanley Avenue in Brooklyn.</p>\\n<p id=\"b603-7\">Ordered that the order is modified, on the law, by deleting the provision thereof which directed the appellant to provide maintenance and/or repair records with regard to the claimed defective bench behind the premises at 725 Stanley Avenue in Brooklyn; as so modified, the order is affirmed, without costs or disbursements.</p>\\n<p id=\"b603-8\">Under the circumstances of this case, the direction in the order appealed from to the appellant to produce records of maintenance and/or repairs made in connection with the allegedly defective bench during the period subsequent to the date of the accident exceeded the bounds of proper discovery <em>(see, Klatz v Armor El. Co., </em>93 AD2d 633). There has been no showing that the case falls within the exception to the general rule prohibiting discovery of subsequent repairs in a negligence case <em>(see, Klatz v Armor El. Co., supra).</em></p>\\n<p id=\"b603-9\">Since the information provided by the original witness <page-number citation-index=\"1\" label=\"564\">*564</page-number>proved inadequate, we additionally conclude that the court properly granted the plaintiffs the opportunity to conduct a deposition of the appellant by a second witness possessing sufficient knowledge of the relevant circumstances <em>(see, Silk v City of New York, </em>142 AD2d 724; <em>Federal Natl. Mtge. Assn. v New York Prop. Ins. Underwriting Assn., </em>90 AD2d 787). Bracken, J. P., Miller, Santucci and Altman, JJ., concur.</p>\\n</opinion>',\n",
       "      'author': '',\n",
       "      'type': ''}]}}},\n",
       " 4441: {'id': 6041862,\n",
       "  'url': <NA>,\n",
       "  'name_abbreviation': 'People v. Levy',\n",
       "  'name': 'The People of the State of New York v. Leon Levy',\n",
       "  'decision_date': nan,\n",
       "  'docket_number': 62401898,\n",
       "  'citations': [],\n",
       "  'cites_to': [],\n",
       "  'court': {'name': 'Appellate Division of the Supreme Court of the State of New York'},\n",
       "  'jurisdiction': {'name': 'SA'},\n",
       "  'casebody': {'data': {'judges': [],\n",
       "    'head_matter': '',\n",
       "    'opinions': [{'text': '<opinion type=\"majority\">\\n<p id=\"b668-9\">The trial court properly allowed the complainant to describe the perpetrator’s appearance at the time of the crime. The complainant’s recollection of the perpetrator’s appearance during the gunpoint robbery was relevant to the issue of identification and did not constitute improper bolstering of his identification of the defendant in court <em>(see, People v Sanders, </em>108 AD2d 316, <em>affd </em>66 NY2d 906; <em>People v Riviello, </em>111 AD2d 878, 879).</p>\\n<p id=\"b668-10\">Furthermore, although the prosecutor should not have inquired as to the description which the robbery victim gave to the police, this single isolated question did not deprive the defendant of a fair trial, and a new trial is not warranted <em>(see, People v Osuna, </em>65 NY2d 822; <em>People v Crimmins, </em>36 NY2d 230). Weinstein, J. P., Rubin, Spatt and Sullivan, JJ., concur.</p>\\n</opinion>',\n",
       "      'author': '',\n",
       "      'type': ''}]}}},\n",
       " 66862: {'id': 6087559,\n",
       "  'url': <NA>,\n",
       "  'name_abbreviation': 'Hochberg v. Zoning Board of Appeals',\n",
       "  'name': 'In the Matter of Lloyd Hochberg v. Zoning Board of Appeals of the Incorporated Village of Westhampton Beach',\n",
       "  'decision_date': nan,\n",
       "  'docket_number': 62447680,\n",
       "  'citations': [],\n",
       "  'cites_to': [],\n",
       "  'court': {'name': 'Appellate Division of the Supreme Court of the State of New York'},\n",
       "  'jurisdiction': {'name': 'SA'},\n",
       "  'casebody': {'data': {'judges': [],\n",
       "    'head_matter': '',\n",
       "    'opinions': [{'text': '<opinion type=\"majority\">\\n<p id=\"AsF\">— In a proceeding pursuant to CPLR article 78 to review a determination of the respondent Zoning Board of Appeals of the Incorporated Village of Westhampton Beach dated November 17, 1988, which denied the petitioners’ application for a variance, the appeal is from a judgment of the Supreme Court, Suffolk County (Copertino, J.), dated January 3, 1990, which annulled the determination and granted the petition.</p>\\n<p id=\"b881-5\">Ordered that the judgment is affirmed, with costs.</p>\\n<p id=\"b881-6\">Pursuant to the zoning code of the Incorporated Village of Westhampton Beach, the petitioners, the owners of a vacant parcel, were precluded from installing a tennis court in the front of their parcel. The petitioners applied for a variance, but the Zoning Board of Appeals of the Incorporated Village of Westhampton Beach (hereinafter the Board) denied their application.</p>\\n<p id=\"b881-7\">We agree with the court’s determination that the denial of the petitioners’ application did not have a rational basis and was arbitrary <em>(see, Matter of Fuhst v Foley, </em>45 NY2d 441). The petitioners established that six other similarly-situated properties had front-yard tennis courts. However, the Board based its denial on its mere \"recollection” that in those other properties, the existence of a residence precluded the installing of tennis courts in their back yards and thus its denial was not supported by the evidence. In any event, even if shown that the other owners’ properties were, unlike the petitioners’ property, already improved, this would not be a \"reasonable” explanation as it would not show that those other owners had shown the prerequisite \"practical difficulties” warranting the granting of a variance <em>(see, Matter of Cowan v Kern, </em>41 NY2d 591; <em>Matter of Nammack v Krucklin, </em>149 AD2d 596; <em>Human Dev. Servs. v Zoning Bd. of Appeals, </em>110 AD2d 135, 139, <em>affd </em>67 NY2d 702; <em>Jarmain v Hamburg, </em>72 AD2d 575).</p>\\n<p id=\"b881-8\">In light of the above determination, we need not reach the petitioners’ claim as to the validity of the applicable provision of the zoning code. Thompson, J. P., Miller, Pizzuto and Santucci, JJ., concur.</p>\\n</opinion>',\n",
       "      'author': '',\n",
       "      'type': ''}]}}},\n",
       " 49864: {'id': 4792141,\n",
       "  'url': 'http://www.tsc.state.tn.us/sites/default/files/in_re_estate_of_wawana_lynn_brakebill.pdf',\n",
       "  'name_abbreviation': 'In Re: Estate Of Wawana Lynn Brakebill',\n",
       "  'name': nan,\n",
       "  'decision_date': nan,\n",
       "  'docket_number': 18501405,\n",
       "  'citations': [],\n",
       "  'cites_to': [1734022,\n",
       "   1876550,\n",
       "   1055222,\n",
       "   1073426,\n",
       "   3894740,\n",
       "   2455766,\n",
       "   112571,\n",
       "   2430021],\n",
       "  'court': {'name': 'Court of Appeals of Tennessee'},\n",
       "  'jurisdiction': {'name': 'SA'},\n",
       "  'casebody': {'data': {'judges': ['Judge Kristi M. Davis'],\n",
       "    'head_matter': '',\n",
       "    'opinions': [{'text': '                                                                                           10/02/2020\\n                IN THE COURT OF APPEALS OF TENNESSEE\\n                           AT KNOXVILLE\\n                                August 18, 2020 Session\\n\\n               IN RE ESTATE OF WAWANA LYNN BRAKEBILL\\n\\n                  Appeal from the Chancery Court for Knox County\\n                     No. 77837-1 John F. Weaver, Chancellor\\n\\n\\n                             No. E2019-00215-COA-R3-CV\\n\\n\\nAttorney Herbert Moncier (“Claimant”) brought this action for prejudgment and/or post-\\njudgment interest on an award of $667,681.80 in attorney’s fees charged by Claimant for\\nlegal services rendered to W. Lynn Brakebill (“Decedent”). Claimant also sought an award\\nof attorney’s fees against Decedent’s estate for his pro se legal work done in litigating the\\nissues pertaining to his fees charged as an attorney. The trial court denied prejudgment\\nand post-judgment interest and held that Claimant could not recover attorney’s fees for his\\ntime expended representing himself. We affirm the judgment of the trial court.\\n\\n      Tenn. R. App. P. 3 Appeal as of Right; Judgment of the Chancery Court\\n                           Affirmed; Case Remanded\\n\\nKRISTI M. DAVIS, J., delivered the opinion of the court, in which D. MICHAEL SWINEY,\\nC.J., and THOMAS R. FRIERSON, II, J., joined.\\n\\nHerbert S. Moncier, Knoxville, Tennessee, pro se appellant.\\n\\nGerald L. Gulley, Jr., Knoxville, Tennessee, for the appellee, Estate of Wawana Lynn\\nBrakebill.\\n\\n\\n                                        OPINION\\n\\n                                     I. BACKGROUND\\n\\n        There are no factual issues in dispute on this appeal. In 2012, Decedent hired\\nClaimant to represent her in an action against her former husband, Jack Brakebill. The\\nlitigation was highly contentious and protracted. Decedent suffered from intermittent\\nmental health issues. On April 20, 2012, the Knox County Chancery Court entered an\\norder authorizing Melissa Mancini, Decedent’s guardian ad litem, to take control of\\n\\x0cDecedent’s financial affairs. On June 15, 2012, an agreed order was entered appointing\\nMs. Mancini as Decedent’s temporary conservator. Three years later, on September 18,\\n2015, Ms. Mancini was appointed conservator of Decedent.\\n\\n       In June of 2016, Decedent died, and a petition for probate of her will was filed.\\nClaimant filed his claim against the Estate “for services rendered to [Decedent], her\\nGuardian ad litem and Conservators during litigation in three cases.” Jack Brakebill,\\nanother creditor of the Estate, timely filed an exception to Claimant’s claim. Claimant filed\\na motion to dismiss Mr. Brakebill’s exception, referencing a settlement agreement between\\nthe Estate and Mr. Brakebill that settled his claims against the Estate. Three days later, on\\nFebruary 8, 2018, Mr. Brakebill filed notice in the trial court that “having resolved all\\nissues with the Estate[,] neither he nor his attorneys will be advocating any exceptions,\\nobjections, motions, or any other papers filed by, or on his behalf, in this matter” and that\\n“all such exceptions . . . may be over-ruled as moot or deemed withdrawn” by Mr.\\nBrakebill.\\n\\n       On February 12, 2018, Michell Wilkerson, Executrix of the Estate, filed a motion\\nstating as follows:\\n\\n       Executrix . . . respectfully moves this Honorable Court to set a hearing to\\n       determine the reasonableness of the fees and expenses set forth by [Claimant]\\n       related to the claim that he filed . . . with this Court. [Executrix] did not file\\n       an exception to [Claimant’s] claim(s) inasmuch as [Executrix] believes that\\n       [Claimant] is due a reasonable award of fees and expenses for the legal work\\n       that he performed on behalf of the Decedent and/or the Decedent’s\\n       conservatorship prior to the Decedent’s death; further, at that time claimant\\n       Jack Brakebill had filed an exception to [Claimant’s] fees. Notwithstanding\\n       that there has been a “global” settlement of multiple lawsuits under which\\n       Jack Brakebill agreed to withdraw his personal claim against the Estate[,\\n       Executrix] believes that it is appropriate for this Court — as the ultimate\\n       arbiter regarding awards of attorney fees in Chancery Court cases, as well as\\n       the ultimate protector of the Estate — to make inquiry as to the\\n       reasonableness and necessity of the fees and expenses claimed. In the\\n       alternative, [Executrix] requests that the Estate . . . be allowed to adopt and/or\\n       join in the exception filed by Jack Brakebill in regards to [Claimant’s] claim\\n       for fees.\\n\\nClaimant responded by filing a motion to dismiss, arguing that Executrix did not timely\\nfile an objection to his claim as required by Tenn. Code Ann. § 30-2-314 (2015). Claimant\\nalso filed a “motion for attorney fees for litigating attorney fees.”\\n\\n\\n                                               2\\n\\x0c       On June 21, 2018, the trial court entered an order dismissing as moot the exception\\nfiled by Mr. Brakebill to Claimant’s claim, nunc pro tunc to February 8, 2018. Shortly\\nthereafter, the trial court granted Claimant’s motion to dismiss Executrix’s motion “to file\\nan exception to the claim of [Claimant] after the time provided by statute or to join in an\\nexception filed by Jack F. Brakebill.” The trial court ruled that Claimant’s claims for\\nattorney’s fees and costs during the time Decedent was subject to a conservatorship\\n“require Court approval under T.C.A. § 34-1-113 and application of Tenn. R. Sup. Ct. 8,\\nRPC 1.5 for consideration by the Clerk and Master for his report and recommendation to\\nthis Court.”\\n\\n       Following a hearing before the Clerk & Master on the reasonableness of Claimant’s\\nfees, the Clerk & Master recommended approval of the full amount requested,\\n$667,681.80. The trial court confirmed the report. The Estate promptly paid Claimant\\n$667,681.80, and this amount is not contested on appeal. Claimant then filed motions “for\\nattorney’s fees for successful defense of attorney’s fees,” “for attorney’s fees for the\\ngranting of . . . dismissal of late filed exceptions,” and for prejudgment interest on his claim\\nfor fees, starting from Decedent’s date of death. Alternatively, Claimant argued that he\\nwas entitled to post-judgment interest starting from November 16, 2016, thirty days after\\nhe filed his claim against the Estate.\\n\\n        After a hearing on Claimant’s request for prejudgment and/or post-judgment interest\\nand attorney’s fees, the trial court issued an oral memorandum opinion holding as follows\\nin pertinent part:\\n\\n       as to the claim for prejudgment interest, TCA 30-2-317 only provides for the\\n       payment of interest on contested claims where the claim is one bearing\\n       interest such as promissory notes with interest due and payable. The\\n       Claimant’s claim is not one bearing interest in that regard.\\n\\n       If the claim is viewed as a claim on which no exceptions were filed, the Court\\n       believes the Claimant must apply, under TCA 30-2-316, for entry of a\\n       judgment for the unexcepted claim to be entered as a judgment. That was\\n       not done in this case.\\n\\n       The Claimant’s claims in this case being in the nature of attorney fees and\\n       expenses payable in a conservatorship proceeding were not allowed or\\n       determined to be reasonable until later, and it wasn’t until later under the\\n       criteria of Rule of Professional Conduct 1.5 that the claims were ̶ that the\\n       fees were allowed. And it wasn’t really until this Court’s order of\\n       confirmation entered October 18, 2018, that the fees were allowed.\\n\\n                                    *       *       *\\n                                                3\\n\\x0c       Additionally, the Claimant, Mr. Moncier, is a licensed and prominent\\n       attorney, but nonetheless he’s also pro se, and the Court does not believe that\\n       a pro se attorney can recover attorney fees for his time because there is no\\n       attorney employed. . . . Claimant is making the claim for attorney fees that\\n       he rendered for services for himself, a pro se attorney. There’s no third-party\\n       attorney involved here. There is no agency involved here.\\n\\nThe trial court denied Claimant’s requests for interest and his attorney’s fees while\\nrepresenting himself.\\n\\n                                  II. ISSUES PRESENTED\\n\\n       Claimant appeals, raising the following issues, which we have restated:\\n\\n       1. Whether the trial court erred in denying his request for post-judgment\\n       interest on the ground that he did not comply with Tenn. Code Ann. § 30-2-\\n       316, which requires written application and timely written notice before a\\n       court may enter judgment against an estate after the time for entering\\n       exceptions for claims against an estate has expired.\\n\\n       2. Whether the trial court erred in denying Claimant’s request for\\n       prejudgment interest.\\n\\n       3. Whether the trial court erred in denying Claimant’s request for attorney’s\\n       fees for himself acting pro se.\\n\\n                               III. STANDARD OF REVIEW\\n\\n       The issues presented involve questions of law. “We review questions of law,\\nincluding those of statutory construction, de novo with no presumption of correctness.”\\nDuke v. Duke, 563 S.W.3d 885, 894 (Tenn. Ct. App. 2018).\\n\\n                                      IV. ANALYSIS\\n\\n                               A. Post-Judgment Interest\\n\\n       When a creditor timely and properly files a claim against an estate, Tenn. Code Ann.\\n§ 30-2-314 provides the following time limitation for the personal representative to file an\\nexception to the claim:\\n\\n\\n                                             4\\n\\x0c       (a)(1) Until thirty (30) days after the expiration of four (4) months from the\\n       date of the notice to creditors given as provided in § 30-2-306(b), the personal\\n       representative, or any party interested in the estate either as creditor,\\n       distributee, heir or otherwise, may except to the claim by filing written\\n       exceptions in triplicate with the clerk of the court in which the estate is being\\n       administered.\\n\\n       (2) However, if the filing of the claim as permitted by § 30-2-307(a) occurs\\n       after the date that is four (4) months from the date of the notice to creditors,\\n       the personal representative, or any party interested in the estate either as\\n       creditor, distributee, heir or otherwise, may except to any claim by filing\\n       written exceptions in triplicate with the clerk of the court in which the estate\\n       is being administered; provided, that the exception is filed no later than thirty\\n       (30) days from the date the personal representative receives notice from the\\n       clerk of the filing of the claim.\\n\\n       Tenn. Code Ann. § 30-2-316 provides the following procedure for a creditor to\\nrequest a court to enter judgment in the creditor’s favor after the time to enter an exception\\nhas expired:\\n\\n       After the lapse of ninety (90) days from and after the expiration of the time\\n       for entering exceptions to claims filed against the estate, the court may, upon\\n       the written application of any creditor having a matured claim on which no\\n       independent suit is pending, to whose duly filed claim no exception has been\\n       filed as provided in § 30-2-314, enter judgment for the creditor against the\\n       estate; provided, that not less than five (5) days’ prior written notice of\\n       intention to file an application shall be given to the personal representative,\\n       stating the time at which the application is to be presented to the court.\\n\\n(Emphasis added). It is undisputed that, as the trial court held, “that was not done in this\\ncase.” Claimant did not provide or file a written application, nor did he provide timely\\nwritten notice to Executrix, as required by the statute. The trial court did not enter judgment\\nfor Claimant against the Estate until October 18, 2018, after the hearing and report from\\nthe Clerk & Master. The Estate paid Claimant’s claim for attorney’s fees within a week.\\nConsequently, the trial court did not err by refusing to award Claimant post-judgment\\ninterest.\\n\\n       Claimant relies upon Warfield v. Thomas’ Estate, 206 S.W.2d 372, 375 (Tenn.\\n1947), wherein the Supreme Court, interpreting a prior version of Tenn. Code Ann. § 30-\\n2-316, stated:\\n\\n\\n                                              5\\n\\x0c       In Higgins’ Administration of Estates in Tennessee, Section 126-a, p. 97, it\\n       is said: “It would seem that claims unexcepted to become the equivalent of\\n       judgments against the estate, excepting of course that the right to an\\n       execution thereon does not follow. The failure to except to a demand thus\\n       filed should be looked upon as a confession of judgment. It is submitted,\\n       however, that relief from such a situation may be granted if the failure to\\n       except be brought about by the fraud of the claimant.”\\n\\n       While no case is cited in support of the text, we think it is sound in principle.\\n       . . . We think that, where the statute expressly provides, as in the instant case,\\n       that no exceptions may be filed after the 13 months’ period of limitation, the\\n       claim stands as if formally adjudicated. The right of the executor cannot be\\n       enlarged by any rule or order of extension by the Court.\\n\\nAccord Needham v. Moore, 292 S.W.2d 720, 722-23 (Tenn. 1956); Bowling v. Minton, 244\\nS.W.2d 998, 1000 (Tenn. 1951). The Warfield decision, however, predates the current\\nversion of the statute. At the time Warfield was decided, there were no requirements for\\nwritten application and five days’ prior written notice in the statute. The General Assembly\\nhas since amended the statute to expressly provide for those requirements. Moreover, the\\nissue presented in this case is not whether the right of Executrix to file exceptions to\\nClaimant’s claim was or should have been “enlarged by any rule or order of extension by\\nthe Court.” Warfield, 206 S.W.2d at 375. The question here is whether an award of post-\\njudgment interest was appropriate when the statutorily-prescribed procedural requirements\\nfor asking a court to enter judgment against an estate were not followed. We affirm the\\ntrial court’s decision not to award Claimant post-judgment interest under these\\ncircumstances.\\n\\n                                  B. Prejudgment Interest\\n\\n        Claimant argues that the trial court erred by declining to award him prejudgment\\ninterest on his claim. We review a trial court’s judgment regarding an award of\\nprejudgment interest under the abuse of discretion standard. Otis v. Cambridge Mut. Fire\\nIns. Co., 850 S.W.2d 439, 446 (Tenn. 1992) (“The award of prejudgment interest is within\\nthe sound discretion of the trial court and the decision will not be disturbed upon appellate\\nreview unless the record reveals a manifest and palpable abuse of discretion”); Int’l Flight\\nCtr. v. City of Murfreesboro, 45 S.W.3d 565, 573 (Tenn. Ct. App. 2000) (“Trial courts are\\nafforded a great deal of discretion and are entitled to deference regarding the determination\\nof whether to award prejudgment interest”) (citing Myint v. Allstate Ins. Co., 970 S.W.2d\\n920, 927 (Tenn. 1998)).\\n\\n       In Myint, the Supreme Court set forth the following general principles guiding a trial\\ncourt’s prejudgment interest decision:\\n                                               6\\n\\x0c       Foremost are the principles of equity. Tenn. Code Ann. § 47-14-123. Simply\\n       stated, the court must decide whether the award of prejudgment interest is\\n       fair, given the particular circumstances of the case. In reaching an equitable\\n       decision, a court must keep in mind that the purpose of awarding the interest\\n       is to fully compensate a plaintiff for the loss of the use of funds to which he\\n       or she was legally entitled, not to penalize a defendant for wrongdoing.\\n       Mitchell v. Mitchell, 876 S.W.2d 830, 832 (Tenn. 1994); Otis, 850 S.W.2d at\\n       446.\\n\\n       In addition to the principles of equity, two other criteria have emerged from\\n       Tennessee common law. The first criterion provides that prejudgment\\n       interest is allowed when the amount of the obligation is certain, or can be\\n       ascertained by a proper accounting, and the amount is not disputed on\\n       reasonable grounds. Mitchell, 876 S.W.2d at 832. The second provides that\\n       interest is allowed when the existence of the obligation itself is not disputed\\n       on reasonable grounds. Id. (citing Textile Workers Union v. Brookside Mills,\\n       Inc., 205 Tenn. 394, 402, 326 S.W.2d 671, 675 (1959)).\\n\\n970 S.W.2d at 927. Subsequently, this Court observed that “[a]s a consequence of the\\nMyint decision, the Court shifted the balance to favoring prejudgment interest whenever\\ndoing so will more fully compensate plaintiffs for the loss of use of their funds.” In re\\nEstate of Ladd, 247 S.W.3d 628, 646 (Tenn. Ct. App. 2007) (internal quotation marks\\nomitted).\\n\\n       In the case of Fossett v. Gray, 173 S.W.3d 742, 754 (Tenn. Ct. App. 2004), this\\nCourt discussed prejudgment interest in the specific context of an award of attorney’s fees,\\nstating:\\n\\n       The Tennessee prejudgment interest statute, T.C.A. 47–14–123 (2001),\\n       states, in relevant part:\\n\\n              Prejudgment interest, i.e., interest as an element of, or in the\\n              nature of, damages, as permitted by the statutory and common\\n              laws of the state as of April 1, 1979, may be awarded by courts\\n              or juries in accordance with the principles of equity. . . .\\n\\n       The statute’s definition of prejudgment interest as an “element of, or in the\\n       nature of, damages,” suggests that an award of prejudgment interest is\\n       available only to parties to a case—not to their attorneys. An attorney is not\\n       a party to a case and cannot be awarded damages for delay caused by a\\n\\n                                             7\\n\\x0c       party’s intervention, however vexatious it may have been. This conclusion\\n       is supported by the reasoning of our supreme court, in the case of Myint[:]\\n\\n              . . . In reaching an equitable decision, a court must keep in\\n              mind that the purpose of awarding the interest is to fully\\n              compensate a plaintiff for the loss of the use of funds to\\n              which he or she was legally entitled, not to penalize a\\n              defendant for wrongdoing.\\n\\n       Id. at 927. Prejudgment interest, then, is not properly awarded to counsel for\\n       the costs incurred in representing a client. In this case, the plaintiffs’\\n       attorneys have been awarded their costs and a fair attorney fee. We therefore\\n       reverse the chancery court’s award of prejudgment interest [on the attorney’s\\n       fees award].\\n\\n        The present case presents a situation different from Fossett in certain regards. Here,\\nin this probate case, Claimant is proceeding as a party ̶ a creditor seeking to collect from\\nthe Estate a debt owed by Decedent. Nevertheless, the underlying debt is for Claimant’s\\ncontractual fees for legal representation. The Fossett Court’s statement that prejudgment\\ninterest “is not properly awarded to counsel for the costs incurred in representing a client”\\nremains relevant and persuasive. In this case, Claimant has never taken on the role of a\\nplaintiff seeking compensatory damages. Myint and its progeny have emphasized that\\nprejudgment interest is appropriate as an element of a plaintiff’s compensatory damages:\\n“After all, the more clear the fact that the plaintiff is entitled to compensatory damages, the\\nmore clear the fact that the plaintiff is also entitled to prejudgment interest as part of the\\ncompensatory damages.” Myint, 970 S.W.2d at 928.\\n\\n        Without a doubt, the existence of the obligation to Claimant to pay his reasonable\\nattorney’s fees has never in been in dispute, and Executrix has not argued otherwise. Any\\ndelay in determining the amount of the obligation was due in part to the trial court’s\\nfulfillment of its duty to review and approve a payment made on behalf of a person under\\na conservatorship, as set forth in Tenn. Code Ann. § 34-1-113(a):\\n\\n       The fiduciary is entitled to pay from the property of the . . . person with a\\n       disability the costs of any required medical examination, the guardian ad\\n       litem fee, bond premium, court costs, attorney fees, fees for income tax\\n       preparation and court accountings, investment management fees, taxes or\\n       governmental charges for which the . . . person with a disability is obligated\\n       and such other expenses as the court determines are necessary for the\\n       fiduciary. The fiduciary shall not pay any attorney fee . . . until the amount\\n       of those fees is approved by the court.\\n\\n                                              8\\n\\x0cThis statutory provision reflects a legislative determination that, given the immense power\\nand control of a fiduciary such as a conservator over the financial and personal affairs of\\nhis or her ward, accountability and judicial oversight of the fiduciary’s decisions are\\nwarranted. On appeal, Claimant does not seriously dispute the trial court’s ruling that\\nunder Tenn. Code Ann. § 34-1-113, his claims were subject to judicial scrutiny and\\napproval.1 We find no error in the trial court’s decision to review and approve the amount\\nof Claimant’s attorney’s fees charged to Decedent. Thus, as the trial court noted, the\\namount of the claim was uncertain and subject to reasonable dispute prior to the court’s\\norder approving the entire requested fee entered October 18, 2018. The trial court did not\\nabuse its discretion in refusing to award Claimant pre-judgment interest, and its ruling in\\nthis regard is affirmed.\\n\\n                          C. Attorney’s Fees For Self-Representation\\n\\n       Claimant filed several motions asking the trial court to award fees for his time spent\\nrepresenting himself in litigating his claim against the Estate. The trial court denied his\\nrequest, stating that it “does not believe that a pro se attorney can recover attorney fees for\\nhis time because there is no attorney employed.” Claimant appeals this ruling.\\n\\n        At the hearing before the trial court on this issue, the court asked Claimant, “do you\\nhave any case where a pro se attorney has been able to recover for this time?” Claimant\\nresponded, “No, sir.” Executrix cites and relies on several cases contrary to Claimant’s\\nposition, including the United States Supreme Court’s decision in Kay v. Ehrler, 499 U.S.\\n432, 435 (1991), where the Court addressed the question of “whether a pro se litigant who\\nis also a lawyer may be awarded attorney’s fees under [42 U.S.C.] § 1988.” Answering in\\nthe negative, the Kay Court observed that “the word ‘attorney’ assumes an agency\\nrelationship, and it seems likely that Congress contemplated an attorney-client relationship\\nas the predicate for an award under § 1988.” Id. at 435-36 (footnote omitted). The High\\nCourt further reasoned:\\n\\n        A rule that authorizes awards of counsel fees to pro se litigants—even if\\n        limited to those who are members of the bar—would create a disincentive to\\n        employ counsel whenever such a plaintiff considered himself competent to\\n        litigate on his own behalf. The statutory policy of furthering the successful\\n\\n\\n        1\\n           Claimant does not mention or discuss Tenn. Code Ann. § 34-1-113 in his brief. He argues that\\nmost of his fees were incurred during a time when Decedent was not under a conservatorship. The statute\\ndoes not draw a distinction based on when a “person with a disability” incurs a relevant cost or expense. It\\nrequires judicial approval of any payment of such a cost by a fiduciary. In his brief, Claimant argues that\\nthe trial court’s decision “to analyze and evaluate the sworn claim is contrary to the holdings in Warfield\\nand Bowling.” As we have already held, these holdings are of limited pertinence because they interpreted\\na substantially different version of Tenn. Code Ann. § 30-2-316.\\n                                                      9\\n\\x0c       prosecution of meritorious claims is better served by a rule that creates an\\n       incentive to retain counsel in every such case.\\n\\nId. at 437-38. Shortly before Kay, the Sixth Circuit in another 42 U.S.C. § 1988 case stated\\nbroadly, “[p]ro se litigants are not entitled to recover attorney fees. . . . Not even attorneys\\nwho proceed pro se are entitled to recover fees.” Simpson v. Montague, 902 F.2d 35 at *4\\n(6th Cir. May 10, 1990).\\n\\n       This Court has ruled similarly in a Tennessee Public Records Act case, Clarke v.\\nCity of Memphis, 473 S.W.3d 285, 293-94 (Tenn. Ct. App. 2015), stating,\\n\\n       We see no authority in the statute that would permit a self-represented\\n       litigant—even a licensed attorney such as Mr. Clarke—to recover “attorneys’\\n       fees” for personal efforts expended on a public records case. Self-\\n       represented efforts involve no costs in the form of attorneys’ fees because\\n       the incurring of such fees implies an agency relationship. See Black’s Law\\n       Dictionary 153 (10th ed. 2014) (defining an attorney as “one who is\\n       designated to transact business for another; a legal agent”). Although Mr.\\n       Clarke is entitled to recover attorneys’ fees he actually incurred as a cost, he\\n       is not entitled to recover attorneys’ fees he billed while working on his own\\n       case.\\n\\nAccord Sutton v. Bedford Cnty. Tenn. Sheriff Dep’t., No. M2014-02575-COA-R3-CV,\\n2015 WL 6153742, at *2 (Tenn. Ct. App. Oct. 19, 2015).\\n\\n       The trial court followed this reasoning, finding that “[t]here’s no third-party attorney\\ninvolved here. There is no agency involved here.” On appeal, Claimant argues for the first\\ntime that his law firm should be awarded fees because he was acting on behalf of the firm,\\nstating in his brief that “in the context of a law business being a separate entity from an\\nindividual, [Claimant] was employed to represent his law business.” Executrix points out\\nthat nowhere in any of the pleadings was Claimant’s law firm listed as a claimant or a party.\\nThe record is clear that Claimant was acting individually, on his own behalf, throughout\\nthe proceedings below, and he did not make the argument that he was involved in an agency\\nrelationship on behalf of his firm until the trial court ruled that he could not recover pro se\\nfees because there was no third-party attorney acting as his agent. This argument is without\\nmerit.\\n\\n       “Because the award of attorneys’ fees is within the discretion of the trial court, we\\nreview the trial court’s actions for an abuse of discretion.” Clarke, 473 S.W.3d at 290.\\nThe trial court did not abuse its discretion in declining to award Claimant attorney’s fees\\nfor time spent representing himself in this case.\\n\\n                                              10\\n\\x0c                                  V. CONCLUSION\\n\\n      The judgment of the trial court is affirmed. Costs on appeal are assessed to the\\nAppellant, Herbert S. Moncier, for which execution may issue if necessary.\\n\\n\\n                                       _______________________________\\n                                       KRISTI M. DAVIS, JUDGE\\n\\n\\n\\n\\n                                          11\\n\\x0c',\n",
       "      'author': '',\n",
       "      'type': ''}]}}},\n",
       " 72197: {'id': 6091184,\n",
       "  'url': <NA>,\n",
       "  'name_abbreviation': 'Burger King Corp. v. 111 Cedar Street Co.',\n",
       "  'name': 'Burger King Corporation v. 111 Cedar Street Company',\n",
       "  'decision_date': nan,\n",
       "  'docket_number': 62451308,\n",
       "  'citations': [],\n",
       "  'cites_to': [],\n",
       "  'court': {'name': 'Appellate Division of the Supreme Court of the State of New York'},\n",
       "  'jurisdiction': {'name': 'SA'},\n",
       "  'casebody': {'data': {'judges': [],\n",
       "    'head_matter': '',\n",
       "    'opinions': [{'text': '<opinion type=\"majority\">\\n<p id=\"AZz\">Order, Supreme Court, New York County (Harold Tompkins, J.), entered on or about June 29, 1992, which granted plaintiff’s motion for summary judgment declaring plaintiff was not obligated to make sub-basement repairs on the leased premises, and denied defendant’s cross-motion for summary judgment declaring plaintiff was obligated to make sidewalk repairs, unanimously modified, on the law, to the extent of denying plaintiff’s motion for summary judgment and vacating the declaration of the parties’ rights, and otherwise affirmed, without costs.</p>\\n<p id=\"b417-6\">On the record before this Court, it appears that questions of fact exist both with respect to plaintiff’s obligation to make repairs to the sub-basement as well as to the sidewalk adjoining the leased premises. This is so despite the fact that, as the IAS Court noted, the lease specifically excludes the sub-basement from the premises actually leased to plaintiff. Other, seemingly conflicting, provisions of the lease are not clear as to the intent of the parties with respect to repairs to the subbasement, and therefore extrinsic evidence must be adduced in order to resolve this issue. Moreover, defendant’s submission of an affidavit from an engineer who inspected the damaged area and concluded it was in a vault, which the lease obligated plaintiff to repair, was sufficient to defeat plaintiff’s motion for summary judgment <em>(see, e.g., Zuckerman v City of New York, </em>49 NY2d 557, 562).</p>\\n<p id=\"b417-7\">Finally, although the lease does provide that plaintiff is responsible for sidewalk repairs, the issue of defendant’s knowledge of such defects prior to plaintiff’s assignment of the lease, and possible consequent estoppel from asserting such obligation, raises issues of fact which cannot be determined on a motion for summary judgment, and thus defendant’s cross-<page-number citation-index=\"1\" label=\"380\">*380</page-number>motion for summary judgment was properly denied. Concur— Murphy, P. J., Carro, Rosenberger, Asch and Kassal, JJ.</p>\\n</opinion>',\n",
       "      'author': '',\n",
       "      'type': ''}]}}}}"
      ]
     },
     "execution_count": 717,
     "metadata": {},
     "output_type": "execute_result"
    }
   ],
   "source": [
    "dict(jsonw)"
   ]
  },
  {
   "cell_type": "code",
   "execution_count": 498,
   "id": "a093e847",
   "metadata": {},
   "outputs": [
    {
     "data": {
      "text/plain": [
       "25.25519175290004"
      ]
     },
     "execution_count": 498,
     "metadata": {},
     "output_type": "execute_result"
    }
   ],
   "source": [
    "1515.3115051740024/60"
   ]
  },
  {
   "cell_type": "code",
   "execution_count": 579,
   "id": "1f26e0fc",
   "metadata": {},
   "outputs": [
    {
     "data": {
      "text/html": [
       "<div>\n",
       "<style scoped>\n",
       "    .dataframe tbody tr th:only-of-type {\n",
       "        vertical-align: middle;\n",
       "    }\n",
       "\n",
       "    .dataframe tbody tr th {\n",
       "        vertical-align: top;\n",
       "    }\n",
       "\n",
       "    .dataframe thead th {\n",
       "        text-align: right;\n",
       "    }\n",
       "</style>\n",
       "<table border=\"1\" class=\"dataframe\">\n",
       "  <thead>\n",
       "    <tr style=\"text-align: right;\">\n",
       "      <th></th>\n",
       "      <th>id</th>\n",
       "      <th>date_created</th>\n",
       "      <th>date_modified</th>\n",
       "      <th>author_str</th>\n",
       "      <th>per_curiam</th>\n",
       "      <th>joined_by_str</th>\n",
       "      <th>type</th>\n",
       "      <th>sha1</th>\n",
       "      <th>page_count</th>\n",
       "      <th>download_url</th>\n",
       "      <th>local_path</th>\n",
       "      <th>plain_text</th>\n",
       "      <th>html</th>\n",
       "      <th>html_lawbox</th>\n",
       "      <th>html_columbia</th>\n",
       "      <th>html_anon_2020</th>\n",
       "      <th>xml_harvard</th>\n",
       "      <th>html_with_citations</th>\n",
       "      <th>extracted_by_ocr</th>\n",
       "      <th>author_id</th>\n",
       "      <th>cluster_id</th>\n",
       "    </tr>\n",
       "  </thead>\n",
       "  <tbody>\n",
       "    <tr>\n",
       "      <th>794866</th>\n",
       "      <td>6326345</td>\n",
       "      <td>2022-03-24 15:00:15.951702+00</td>\n",
       "      <td>2022-03-24 15:06:31.249458+00</td>\n",
       "      <td>NaN</td>\n",
       "      <td>f</td>\n",
       "      <td>NaN</td>\n",
       "      <td>010combined</td>\n",
       "      <td>5770e2f86271371c7c273163b056ed48038b4aae</td>\n",
       "      <td>4.0</td>\n",
       "      <td>http://www.ca2.uscourts.gov/decisions/isysquer...</td>\n",
       "      <td>pdf/2022/03/24/united_states_v._shafer.pdf</td>\n",
       "      <td>21-1334-cr\\nUnited States v. Shafer\\n\\n       ...</td>\n",
       "      <td>NaN</td>\n",
       "      <td>NaN</td>\n",
       "      <td>NaN</td>\n",
       "      <td>NaN</td>\n",
       "      <td>NaN</td>\n",
       "      <td>&lt;pre class=\"inline\"&gt;21-1334-cr\\nUnited States ...</td>\n",
       "      <td>f</td>\n",
       "      <td>NaN</td>\n",
       "      <td>6454234</td>\n",
       "    </tr>\n",
       "  </tbody>\n",
       "</table>\n",
       "</div>"
      ],
      "text/plain": [
       "             id                   date_created                  date_modified  \\\n",
       "794866  6326345  2022-03-24 15:00:15.951702+00  2022-03-24 15:06:31.249458+00   \n",
       "\n",
       "       author_str per_curiam  joined_by_str         type  \\\n",
       "794866        NaN          f            NaN  010combined   \n",
       "\n",
       "                                            sha1  page_count  \\\n",
       "794866  5770e2f86271371c7c273163b056ed48038b4aae         4.0   \n",
       "\n",
       "                                             download_url  \\\n",
       "794866  http://www.ca2.uscourts.gov/decisions/isysquer...   \n",
       "\n",
       "                                        local_path  \\\n",
       "794866  pdf/2022/03/24/united_states_v._shafer.pdf   \n",
       "\n",
       "                                               plain_text html html_lawbox  \\\n",
       "794866  21-1334-cr\\nUnited States v. Shafer\\n\\n       ...  NaN         NaN   \n",
       "\n",
       "       html_columbia html_anon_2020 xml_harvard  \\\n",
       "794866           NaN            NaN         NaN   \n",
       "\n",
       "                                      html_with_citations extracted_by_ocr  \\\n",
       "794866  <pre class=\"inline\">21-1334-cr\\nUnited States ...                f   \n",
       "\n",
       "        author_id  cluster_id  \n",
       "794866        NaN     6454234  "
      ]
     },
     "execution_count": 579,
     "metadata": {},
     "output_type": "execute_result"
    }
   ],
   "source": [
    "dm = df_opinions[df_opinions['id'] == 6326345]\n",
    "dm"
   ]
  },
  {
   "cell_type": "code",
   "execution_count": 581,
   "id": "336da6ab",
   "metadata": {},
   "outputs": [
    {
     "name": "stdout",
     "output_type": "stream",
     "text": [
      "> \u001b[0;32m/var/folders/rj/v64qwmcn24jgn090vgn_qr_c0000gq/T/ipykernel_3317/3219008094.py\u001b[0m(4)\u001b[0;36mget_opinion_text\u001b[0;34m()\u001b[0m\n",
      "\u001b[0;32m      2 \u001b[0;31m    \u001b[0mtext\u001b[0m \u001b[0;34m=\u001b[0m \u001b[0;34m''\u001b[0m\u001b[0;34m\u001b[0m\u001b[0;34m\u001b[0m\u001b[0m\n",
      "\u001b[0m\u001b[0;32m      3 \u001b[0;31m    \u001b[0;32mimport\u001b[0m \u001b[0mpdb\u001b[0m\u001b[0;34m;\u001b[0m \u001b[0mpdb\u001b[0m\u001b[0;34m.\u001b[0m\u001b[0mset_trace\u001b[0m\u001b[0;34m(\u001b[0m\u001b[0;34m)\u001b[0m\u001b[0;34m\u001b[0m\u001b[0;34m\u001b[0m\u001b[0m\n",
      "\u001b[0m\u001b[0;32m----> 4 \u001b[0;31m    \u001b[0;32mif\u001b[0m \u001b[0mis_pd_series\u001b[0m\u001b[0;34m(\u001b[0m\u001b[0mopinion\u001b[0m\u001b[0;34m.\u001b[0m\u001b[0mxml_harvard\u001b[0m\u001b[0;34m)\u001b[0m \u001b[0;32mand\u001b[0m \u001b[0;32mnot\u001b[0m \u001b[0misinstance\u001b[0m\u001b[0;34m(\u001b[0m\u001b[0mopinion\u001b[0m\u001b[0;34m.\u001b[0m\u001b[0mxml_harvard\u001b[0m\u001b[0;34m.\u001b[0m\u001b[0miloc\u001b[0m\u001b[0;34m[\u001b[0m\u001b[0;36m0\u001b[0m\u001b[0;34m]\u001b[0m\u001b[0;34m,\u001b[0m \u001b[0mfloat\u001b[0m\u001b[0;34m)\u001b[0m\u001b[0;34m:\u001b[0m\u001b[0;34m\u001b[0m\u001b[0;34m\u001b[0m\u001b[0m\n",
      "\u001b[0m\u001b[0;32m      5 \u001b[0;31m        \u001b[0mtext\u001b[0m \u001b[0;34m=\u001b[0m \u001b[0mopinion\u001b[0m\u001b[0;34m.\u001b[0m\u001b[0mxml_harvard\u001b[0m\u001b[0;34m.\u001b[0m\u001b[0miloc\u001b[0m\u001b[0;34m[\u001b[0m\u001b[0;36m0\u001b[0m\u001b[0;34m]\u001b[0m\u001b[0;34m\u001b[0m\u001b[0;34m\u001b[0m\u001b[0m\n",
      "\u001b[0m\u001b[0;32m      6 \u001b[0;31m    \u001b[0;32melif\u001b[0m \u001b[0mis_pd_series\u001b[0m\u001b[0;34m(\u001b[0m\u001b[0mopinion\u001b[0m\u001b[0;34m.\u001b[0m\u001b[0mplain_text\u001b[0m\u001b[0;34m)\u001b[0m \u001b[0;32mand\u001b[0m \u001b[0;32mnot\u001b[0m \u001b[0misinstance\u001b[0m\u001b[0;34m(\u001b[0m\u001b[0mopinion\u001b[0m\u001b[0;34m.\u001b[0m\u001b[0mplain_text\u001b[0m\u001b[0;34m.\u001b[0m\u001b[0miloc\u001b[0m\u001b[0;34m[\u001b[0m\u001b[0;36m0\u001b[0m\u001b[0;34m]\u001b[0m\u001b[0;34m,\u001b[0m \u001b[0mfloat\u001b[0m\u001b[0;34m)\u001b[0m\u001b[0;34m:\u001b[0m\u001b[0;34m\u001b[0m\u001b[0;34m\u001b[0m\u001b[0m\n",
      "\u001b[0m\n",
      "ipdb> c\n"
     ]
    },
    {
     "data": {
      "text/plain": [
       "'21-1334-cr\\nUnited States v. Shafer\\n\\n                             UNITED STATES COURT OF APPEALS\\n                                FOR THE SECOND CIRCUIT\\n\\n                                      SUMMARY ORDER\\nRulings by summary order do not have precedential effect. Citation to a summary order\\nfiled on or after January 1, 2007, is permitted and is governed by Federal Rule of Appellate\\nProcedure 32.1 and this Court’s Local Rule 32.1.1. When citing a summary order in a\\ndocument filed with this Court, a party must cite either the Federal Appendix or an\\nelectronic database (with the notation “summary order”). A party citing a summary order\\nmust serve a copy of it on any party not represented by counsel.\\n\\n       At a stated term of the United States Court of Appeals for the Second Circuit, held at\\nthe Thurgood Marshall United States Courthouse, 40 Foley Square, in the City of New York,\\non the 24th day of March, two thousand twenty-two.\\n\\nPRESENT:    JOSÉ A. CABRANES,\\n            REENA RAGGI,\\n            SUSAN L. CARNEY,\\n                         Circuit Judges.\\n_____________________________________\\n\\n\\nUNITED STATES OF AMERICA,\\n\\n                          Appellee,\\n\\n                     v.                                                  21-1334-cr\\n\\nJOSHUA SHAFER,\\n\\n                          Defendant-Appellant.\\n\\n_____________________________________\\n\\nFOR APPELLEE:                                         Paul D. Silver, Assistant United States\\n                                                      Attorney, for Carla B. Freedman, United\\n                                                      States Attorney for the Northern District\\n                                                      of New York, Albany, NY\\n\\nFOR DEFENDANT-APPELLANT:                              Melissa A. Tuohey, Assistant Federal\\n                                                      Public Defender, for Lisa A. Peebles,\\n                                                      Federal Public Defender, Syracuse, NY\\n\\n\\n                                                 1\\n\\x0c       Appeal from a judgment, entered May 20, 2021, by the United States District Court for the\\nNorthern District of New York (Thomas J. McAvoy, Judge).\\n\\n        UPON DUE CONSIDERATION WHEREOF, IT IS HEREBY ORDERED,\\nADJUDGED, AND DECREED that the May 20, 2021 judgment of the District Court be and\\nhereby is AFFIRMED.\\n\\n         Defendant Joshua Shafer appeals from the District Court’s judgment of conviction following\\nthe District Court’s denial of his motion to suppress evidence. On October 16, 2019, Shafer was\\nindicted by a federal grand jury on one count of possession of a controlled substance with intent to\\ndistribute, in violation of 21 U.S.C. § 841(a)(1), (b)(1)(B), and one count of possession of firearms in\\nfurtherance of a drug trafficking crime, in violation of 18 U.S.C. § 924(c)(1)(A)(i). Shortly thereafter,\\nShafer moved the District Court to suppress certain physical evidence obtained from his residence\\npursuant to the execution of a search warrant. Following a hearing at which neither party chose to\\ncall any witnesses, the District Court denied Shafer’s motion to suppress by written order on\\nSeptember 15, 2020. 1 Shafer then conditionally pleaded guilty to the two counts, preserving his\\nability to appeal the District Court’s denial of his suppression motion, which he does now. We\\nassume the parties’ familiarity with the underlying facts, the procedural history of the case, and the\\nissues on appeal.\\n\\n         “When reviewing the grant or denial of a motion to suppress, we apply a de novo standard of\\nreview of the district court’s conclusions of law and a deferential, clear-error standard of review of\\nthe district court’s findings of fact.” United States v. Smith, 967 F.3d 198, 204 (2d Cir. 2020). “To the\\nextent that a district court’s determination may involve a mixed question of law and fact, we apply de\\nnovo review, including to any ultimate determination whether the established facts satisfy the relevant\\nlegal standard.” Id. at 205.\\n\\n        On appeal, Shafer argues that the warrant authorizing the search of his residence — signed\\nby a Syracuse City Court judge on August 12, 2019 — was not supported by probable cause.\\nSpecifically, Shafer argues that the affidavit submitted by Adam Rivers, a task force officer (“TFO”)\\nfor the Drug Enforcement Administration (“DEA”), failed to “establish a sufficient nexus between\\nShafer’s alleged criminal activity and his residence.” Def.’s Br. 21. We decline to decide whether or\\nnot the warrant was supported by probable cause, however, because — even assuming that warrant\\n\\n\\n\\n\\n1\\n        Shafer also moved the District Court to suppress evidence obtained through a GPS mobile\\ntracking device installed on his vehicle and any evidence relating to his telephone. The District\\nCourt denied those portions of Shafer’s motion as well, and Shafer does not challenge those rulings\\non appeal.\\n\\n                                                    2\\n\\x0cwas constitutionally defective — we conclude that law enforcement officers’ reliance on the warrant\\nwas objectively reasonable and made in good faith.\\n\\n         “[E]vidence seized pursuant to a defective warrant will not be suppressed if it was ‘obtained\\nin objectively reasonable reliance’ on the invalid warrant.” United States v. Purcell, 967 F.3d 159, 179\\n(2d Cir. 2020) (quoting United States v. Leon, 468 U.S. 897, 922 (1984)). For the so-called good faith\\nexception to apply, “[t]he burden is on the government to demonstrate the objective reasonableness\\nof the officers’ good faith reliance on an invalidated warrant.” United States v. Clark, 638 F.3d 89, 100\\n(2d Cir. 2011) (internal quotation marks omitted). We decide whether the good-faith exception\\napplies keeping in mind that “most searches conducted pursuant to a warrant [are] likely [to] fall\\nwithin its protection.” Id. As relevant here, the Supreme Court has stated that when an officer\\n“rel[ies] on a warrant based on an affidavit so lacking in indicia of probable cause as to render\\nofficial belief in its existence entirely unreasonable,” the good-faith exception does not apply. Leon,\\n468 U.S. at 923 (internal quotation marks omitted). On appeal, Shafer argues that TFO Rivers’s\\nwarrant application was based on such a defective affidavit, rendering any reliance on the\\nsubsequently issued warrant objectively unreasonable. We, like the District Court did below, do not\\nagree.\\n\\n         Affidavits in the “so lacking in indicia of probable cause” category are primarily those that\\nare “bare bones, i.e., totally devoid of factual circumstances to support conclusory allegations.”\\nClark, 638 F.3d at 103. By contrast, TFO Rivers’s affidavit provided specific (if indirect) factual\\nallegations supporting the inference that Shafer’s residence would contain evidence of his illegal drug\\nactivities. For example, TFO Rivers’s affidavit states that following a DEA confidential source’s\\ncontrolled purchase of a white powder (which later tested positive for cocaine) from Shafer, GPS\\ntracking showed that Shafer’s vehicle arrived inside an enclosed garage in the apartment building of\\nShafer’s residence. From this information, it arguably could be inferred that Shafer entered his\\nresidence with the proceeds of the sale. The affidavit also states that Shafer’s vehicle was parked in\\nthe apartment building’s garage overnight during July 2019 and the first 11 nights of August 2019;\\naccording to the affidavit, this time frame corresponds to the date that surveillance indicated what\\nappeared to be a large-scale drug transaction in Shafer’s presence at the business he owned. And\\nTFO Rivers states that his “investigation, training[,] and experience” led him to believe that Shafer\\n“utilizes his apartment . . . to stash narcotics/illegal substances and the proceeds of the sale of\\nnarcotics/illegal substances.” App’x 62. Under these circumstances, we cannot say that TFO\\nRivers’s affidavit was so lacking in indicia of probable cause that the law enforcement officers\\nexecuting the search of Shafer’s residence were objectively unreasonable in relying on the warrant.\\n\\n\\n\\n\\n                                                   3\\n\\x0c       We have considered all of Shafer’s remaining arguments and find them to be without merit.\\nFor the foregoing reasons, therefore, we AFFIRM the May 20, 2021 judgment of the District Court.\\n\\n                                                   FOR THE COURT:\\n                                                   Catherine O’Hagan Wolfe, Clerk\\n\\n\\n\\n\\n                                               4\\n\\x0c'"
      ]
     },
     "execution_count": 581,
     "metadata": {},
     "output_type": "execute_result"
    }
   ],
   "source": [
    "get_opinion_text(dm)"
   ]
  },
  {
   "cell_type": "code",
   "execution_count": 520,
   "id": "9fa11577",
   "metadata": {},
   "outputs": [
    {
     "data": {
      "text/plain": [
       "'NOTE: This order is nonprecedential\\nUnited States Court of AppeaIs\\nfor the Federal Circuit\\nVERMONT YANKEE NUCLEAR POWER\\nCORPORATION, -\\nPlaintiff~C\\'ross Appellant,\\nV.\\nENTERGY NUCLEAR VERMONT YANKEE, LLC\\nAND ENTERGY NUCLEAR OPERATIONS, INC.,\\nPlaintiffs-Cross Appellan,ts, o\\nV.\\nUNITED S\\'I`ATES,\\nDefendant-Appellan.t.\\n2011-5033, -5034, -5042\\nAppea1s from the United States Court of Federal\\nC1aimS in consolidated case noS. 02-CV-898 and 03-CV-\\n2663, Judge Thomas C. Whee1er.\\nON MOTION\\nORDER\\n\\nVERMONT YANKEE NUCLEAR POWER V. US 2\\nThe State of Vermont moves for a 21-day extension of\\ntime, until October 24, 2011 to file its amended amicus\\ncuriae brief, or in the alternative, a 21-day extension of\\ntime from the date of filing of this order. \"This motion is\\nun0pposed, provided that the United States is granted an\\nenlargement of time such that the deadline for its re-\\nsponse would be 30 days from the new deadline for the\\nState of Vermont’s amended amicus brief.\"\\nUpon consideration thereof\\nlT IS ORDERED THATZ\\nThe motion is granted The State of Vermont’s\\namended amicus brief is due on or before Oct0ber _24,\\n2011. The United States’ response brief is due within 30\\ndays from the date of service of the State of Vermont’s\\namended amicus brief\\nFoR THE CoURT\\nSEP 2 1  /s/ J an Horbaly\\nDate J an Horbaly\\nClerk\\ncc: Brad Fagg, Esq.\\nRichard J ames Conway, Esq.\\nHarold D. Lester, Jr., Esq. 93 C0uR1E(l5ll;§PPEALs ma\\nKyle Landis-Marinello, Esq. THE FEDERAL C!RGU|T\\n531 SEP 21 2011\\nJAN HDRBALY\\nCLEH(\\n\\n'"
      ]
     },
     "execution_count": 520,
     "metadata": {},
     "output_type": "execute_result"
    }
   ],
   "source": [
    "txt = get_opinion_text(dm)\n",
    "txt"
   ]
  },
  {
   "cell_type": "code",
   "execution_count": 322,
   "id": "ec5dfb73",
   "metadata": {},
   "outputs": [
    {
     "name": "stdout",
     "output_type": "stream",
     "text": [
      "144.56284578799387\n"
     ]
    }
   ],
   "source": [
    "# start = time.perf_counter()\n",
    "# items = []\n",
    "# json = [items.append(\n",
    "#     process(taxonomy, opinion, df_opinion_clusters, df_courts, dfs_dockets, df_citation_map))\n",
    "#  for index, opinion in df_opinions.sample(100).iterrows()]#in zip(*get_columns_series(dfs_opinions[0]))]\n",
    "# end = time.perf_counter()\n",
    "# print(end-start)"
   ]
  },
  {
   "cell_type": "code",
   "execution_count": 404,
   "id": "61f77d18",
   "metadata": {},
   "outputs": [
    {
     "data": {
      "text/plain": [
       "744.4305102559956"
      ]
     },
     "execution_count": 404,
     "metadata": {},
     "output_type": "execute_result"
    }
   ],
   "source": [
    "end-start"
   ]
  },
  {
   "cell_type": "code",
   "execution_count": 302,
   "id": "9dd47191",
   "metadata": {},
   "outputs": [
    {
     "data": {
      "text/plain": [
       "5.895291273283329"
      ]
     },
     "execution_count": 302,
     "metadata": {},
     "output_type": "execute_result"
    }
   ],
   "source": [
    "(time.perf_counter() - start)/60"
   ]
  },
  {
   "cell_type": "code",
   "execution_count": null,
   "id": "fff6e771",
   "metadata": {},
   "outputs": [],
   "source": [
    "json"
   ]
  },
  {
   "cell_type": "code",
   "execution_count": null,
   "id": "30aa78a6",
   "metadata": {},
   "outputs": [],
   "source": [
    "for r in zip(*get_columns_series(dfs_opinions[0])):\n",
    "    print(r[0])"
   ]
  },
  {
   "cell_type": "code",
   "execution_count": 62,
   "id": "6b4d3a7c",
   "metadata": {},
   "outputs": [],
   "source": [
    "df_cluster = df_row_by_value(df_opinion_clusters, 'id', col_value(df_opinion['cluster_id']))"
   ]
  },
  {
   "cell_type": "code",
   "execution_count": 63,
   "id": "6e00680a",
   "metadata": {},
   "outputs": [
    {
     "data": {
      "text/html": [
       "<div>\n",
       "<style scoped>\n",
       "    .dataframe tbody tr th:only-of-type {\n",
       "        vertical-align: middle;\n",
       "    }\n",
       "\n",
       "    .dataframe tbody tr th {\n",
       "        vertical-align: top;\n",
       "    }\n",
       "\n",
       "    .dataframe thead th {\n",
       "        text-align: right;\n",
       "    }\n",
       "</style>\n",
       "<table border=\"1\" class=\"dataframe\">\n",
       "  <thead>\n",
       "    <tr style=\"text-align: right;\">\n",
       "      <th></th>\n",
       "      <th>id</th>\n",
       "      <th>date_created</th>\n",
       "      <th>date_modified</th>\n",
       "      <th>judges</th>\n",
       "      <th>date_filed</th>\n",
       "      <th>date_filed_is_approximate</th>\n",
       "      <th>slug</th>\n",
       "      <th>case_name_short</th>\n",
       "      <th>case_name</th>\n",
       "      <th>case_name_full</th>\n",
       "      <th>...</th>\n",
       "      <th>disposition</th>\n",
       "      <th>history</th>\n",
       "      <th>other_dates</th>\n",
       "      <th>cross_reference</th>\n",
       "      <th>correction</th>\n",
       "      <th>citation_count</th>\n",
       "      <th>precedential_status</th>\n",
       "      <th>date_blocked</th>\n",
       "      <th>blocked</th>\n",
       "      <th>docket_id</th>\n",
       "    </tr>\n",
       "  </thead>\n",
       "  <tbody>\n",
       "    <tr>\n",
       "      <th>7551920</th>\n",
       "      <td>8000490</td>\n",
       "      <td>2022-09-08 23:47:52.267828+00</td>\n",
       "      <td>2022-09-08 23:47:52.267841+00</td>\n",
       "      <td>NaN</td>\n",
       "      <td>1991-08-30</td>\n",
       "      <td>f</td>\n",
       "      <td>people-v-ratliff</td>\n",
       "      <td>Ratliff</td>\n",
       "      <td>People v. Ratliff</td>\n",
       "      <td>People v. Ratliff</td>\n",
       "      <td>...</td>\n",
       "      <td>NaN</td>\n",
       "      <td>NaN</td>\n",
       "      <td>NaN</td>\n",
       "      <td>NaN</td>\n",
       "      <td>NaN</td>\n",
       "      <td>0</td>\n",
       "      <td>Published</td>\n",
       "      <td>NaN</td>\n",
       "      <td>f</td>\n",
       "      <td>65095903</td>\n",
       "    </tr>\n",
       "  </tbody>\n",
       "</table>\n",
       "<p>1 rows × 32 columns</p>\n",
       "</div>"
      ],
      "text/plain": [
       "              id                   date_created  \\\n",
       "7551920  8000490  2022-09-08 23:47:52.267828+00   \n",
       "\n",
       "                         date_modified judges  date_filed  \\\n",
       "7551920  2022-09-08 23:47:52.267841+00    NaN  1991-08-30   \n",
       "\n",
       "        date_filed_is_approximate              slug case_name_short  \\\n",
       "7551920                         f  people-v-ratliff         Ratliff   \n",
       "\n",
       "                 case_name     case_name_full  ... disposition  history  \\\n",
       "7551920  People v. Ratliff  People v. Ratliff  ...         NaN      NaN   \n",
       "\n",
       "         other_dates  cross_reference correction  citation_count  \\\n",
       "7551920          NaN              NaN        NaN               0   \n",
       "\n",
       "        precedential_status date_blocked blocked docket_id  \n",
       "7551920           Published          NaN       f  65095903  \n",
       "\n",
       "[1 rows x 32 columns]"
      ]
     },
     "execution_count": 63,
     "metadata": {},
     "output_type": "execute_result"
    }
   ],
   "source": [
    "df_cluster"
   ]
  },
  {
   "cell_type": "code",
   "execution_count": 93,
   "id": "4dff282a",
   "metadata": {},
   "outputs": [],
   "source": []
  },
  {
   "cell_type": "code",
   "execution_count": 185,
   "id": "a439c45f",
   "metadata": {},
   "outputs": [
    {
     "data": {
      "text/html": [
       "<div>\n",
       "<style scoped>\n",
       "    .dataframe tbody tr th:only-of-type {\n",
       "        vertical-align: middle;\n",
       "    }\n",
       "\n",
       "    .dataframe tbody tr th {\n",
       "        vertical-align: top;\n",
       "    }\n",
       "\n",
       "    .dataframe thead th {\n",
       "        text-align: right;\n",
       "    }\n",
       "</style>\n",
       "<table border=\"1\" class=\"dataframe\">\n",
       "  <thead>\n",
       "    <tr style=\"text-align: right;\">\n",
       "      <th></th>\n",
       "      <th>id</th>\n",
       "      <th>date_created</th>\n",
       "      <th>date_modified</th>\n",
       "      <th>author_str</th>\n",
       "      <th>per_curiam</th>\n",
       "      <th>joined_by_str</th>\n",
       "      <th>type</th>\n",
       "      <th>sha1</th>\n",
       "      <th>page_count</th>\n",
       "      <th>download_url</th>\n",
       "      <th>...</th>\n",
       "      <th>plain_text</th>\n",
       "      <th>html</th>\n",
       "      <th>html_lawbox</th>\n",
       "      <th>html_columbia</th>\n",
       "      <th>html_anon_2020</th>\n",
       "      <th>xml_harvard</th>\n",
       "      <th>html_with_citations</th>\n",
       "      <th>extracted_by_ocr</th>\n",
       "      <th>author_id</th>\n",
       "      <th>cluster_id</th>\n",
       "    </tr>\n",
       "  </thead>\n",
       "  <tbody>\n",
       "    <tr>\n",
       "      <th>99989</th>\n",
       "      <td>7954541</td>\n",
       "      <td>2022-09-08 23:47:52.273386+00</td>\n",
       "      <td>2022-09-08 23:47:52.273399+00</td>\n",
       "      <td>NaN</td>\n",
       "      <td>f</td>\n",
       "      <td>NaN</td>\n",
       "      <td>020lead</td>\n",
       "      <td>NaN</td>\n",
       "      <td>NaN</td>\n",
       "      <td>NaN</td>\n",
       "      <td>...</td>\n",
       "      <td>NaN</td>\n",
       "      <td>NaN</td>\n",
       "      <td>NaN</td>\n",
       "      <td>NaN</td>\n",
       "      <td>NaN</td>\n",
       "      <td>&lt;opinion type=\"majority\"&gt;\\n&lt;p id=\"AIK\"&gt;Court o...</td>\n",
       "      <td>NaN</td>\n",
       "      <td>t</td>\n",
       "      <td>NaN</td>\n",
       "      <td>8000490</td>\n",
       "    </tr>\n",
       "  </tbody>\n",
       "</table>\n",
       "<p>1 rows × 21 columns</p>\n",
       "</div>"
      ],
      "text/plain": [
       "            id                   date_created                  date_modified  \\\n",
       "99989  7954541  2022-09-08 23:47:52.273386+00  2022-09-08 23:47:52.273399+00   \n",
       "\n",
       "      author_str per_curiam  joined_by_str     type sha1  page_count  \\\n",
       "99989        NaN          f            NaN  020lead  NaN         NaN   \n",
       "\n",
       "      download_url  ... plain_text html html_lawbox html_columbia  \\\n",
       "99989          NaN  ...        NaN  NaN         NaN           NaN   \n",
       "\n",
       "      html_anon_2020                                        xml_harvard  \\\n",
       "99989            NaN  <opinion type=\"majority\">\\n<p id=\"AIK\">Court o...   \n",
       "\n",
       "      html_with_citations extracted_by_ocr author_id  cluster_id  \n",
       "99989                 NaN                t       NaN     8000490  \n",
       "\n",
       "[1 rows x 21 columns]"
      ]
     },
     "execution_count": 185,
     "metadata": {},
     "output_type": "execute_result"
    }
   ],
   "source": [
    "dfs_opinions[0].loc[dfs_opinions[0]['id'] == 7954541]"
   ]
  },
  {
   "cell_type": "code",
   "execution_count": 89,
   "id": "a518625a",
   "metadata": {},
   "outputs": [],
   "source": [
    "l = dfs_opinions[0]['id'], dfs_opinions[0]['type']"
   ]
  },
  {
   "cell_type": "code",
   "execution_count": 90,
   "id": "6901bf6d",
   "metadata": {},
   "outputs": [
    {
     "data": {
      "text/plain": [
       "0        5901618\n",
       "1        5901619\n",
       "2        5901620\n",
       "3        5901621\n",
       "4        5901622\n",
       "          ...   \n",
       "99995    5976242\n",
       "99996    5976243\n",
       "99997    4468255\n",
       "99998    5976244\n",
       "99999    5976245\n",
       "Name: id, Length: 100000, dtype: int64"
      ]
     },
     "execution_count": 90,
     "metadata": {},
     "output_type": "execute_result"
    }
   ],
   "source": [
    "l[0]"
   ]
  },
  {
   "cell_type": "code",
   "execution_count": 83,
   "id": "62637dc3",
   "metadata": {},
   "outputs": [
    {
     "data": {
      "text/plain": [
       "21"
      ]
     },
     "execution_count": 83,
     "metadata": {},
     "output_type": "execute_result"
    }
   ],
   "source": [
    "len(dfs_opinions[0].columns)"
   ]
  },
  {
   "cell_type": "code",
   "execution_count": null,
   "id": "f40c26cc",
   "metadata": {},
   "outputs": [],
   "source": [
    "#result = [for print(1) for row in zip(*get_columns_series(dfs_opinions))]\n",
    "\n"
   ]
  },
  {
   "cell_type": "markdown",
   "id": "8c159b54",
   "metadata": {},
   "source": [
    "get the corresponding opinion_cluster_row: case_name_full, docket_id, case_name\n",
    "get the corresponding docket: date_terminated\n",
    "get corresponding court: fullname\n",
    "get citationsmap: cited_opinion_id, citing_opinion_id"
   ]
  },
  {
   "cell_type": "code",
   "execution_count": 63,
   "id": "12e15039",
   "metadata": {},
   "outputs": [
    {
     "data": {
      "text/html": [
       "<div>\n",
       "<style scoped>\n",
       "    .dataframe tbody tr th:only-of-type {\n",
       "        vertical-align: middle;\n",
       "    }\n",
       "\n",
       "    .dataframe tbody tr th {\n",
       "        vertical-align: top;\n",
       "    }\n",
       "\n",
       "    .dataframe thead th {\n",
       "        text-align: right;\n",
       "    }\n",
       "</style>\n",
       "<table border=\"1\" class=\"dataframe\">\n",
       "  <thead>\n",
       "    <tr style=\"text-align: right;\">\n",
       "      <th></th>\n",
       "      <th>id</th>\n",
       "      <th>date_created</th>\n",
       "      <th>date_modified</th>\n",
       "      <th>author_str</th>\n",
       "      <th>per_curiam</th>\n",
       "      <th>joined_by_str</th>\n",
       "      <th>type</th>\n",
       "      <th>sha1</th>\n",
       "      <th>page_count</th>\n",
       "      <th>download_url</th>\n",
       "      <th>...</th>\n",
       "      <th>plain_text</th>\n",
       "      <th>html</th>\n",
       "      <th>html_lawbox</th>\n",
       "      <th>html_columbia</th>\n",
       "      <th>html_anon_2020</th>\n",
       "      <th>xml_harvard</th>\n",
       "      <th>html_with_citations</th>\n",
       "      <th>extracted_by_ocr</th>\n",
       "      <th>author_id</th>\n",
       "      <th>cluster_id</th>\n",
       "    </tr>\n",
       "  </thead>\n",
       "  <tbody>\n",
       "    <tr>\n",
       "      <th>0</th>\n",
       "      <td>5901618</td>\n",
       "      <td>2022-01-13 03:22:58.163752+00</td>\n",
       "      <td>2022-01-13 03:22:58.16378+00</td>\n",
       "      <td>NaN</td>\n",
       "      <td>f</td>\n",
       "      <td>NaN</td>\n",
       "      <td>020lead</td>\n",
       "      <td>NaN</td>\n",
       "      <td>NaN</td>\n",
       "      <td>NaN</td>\n",
       "      <td>...</td>\n",
       "      <td>NaN</td>\n",
       "      <td>NaN</td>\n",
       "      <td>NaN</td>\n",
       "      <td>NaN</td>\n",
       "      <td>NaN</td>\n",
       "      <td>&lt;opinion type=\"majority\"&gt;\\n&lt;p id=\"ADG\"&gt;—Appeal...</td>\n",
       "      <td>NaN</td>\n",
       "      <td>t</td>\n",
       "      <td>NaN</td>\n",
       "      <td>6038492</td>\n",
       "    </tr>\n",
       "    <tr>\n",
       "      <th>1</th>\n",
       "      <td>5901619</td>\n",
       "      <td>2022-01-13 03:22:58.445791+00</td>\n",
       "      <td>2022-01-13 03:22:58.445825+00</td>\n",
       "      <td>NaN</td>\n",
       "      <td>f</td>\n",
       "      <td>NaN</td>\n",
       "      <td>020lead</td>\n",
       "      <td>NaN</td>\n",
       "      <td>NaN</td>\n",
       "      <td>NaN</td>\n",
       "      <td>...</td>\n",
       "      <td>NaN</td>\n",
       "      <td>NaN</td>\n",
       "      <td>NaN</td>\n",
       "      <td>NaN</td>\n",
       "      <td>NaN</td>\n",
       "      <td>&lt;opinion type=\"majority\"&gt;\\n&lt;p id=\"AocO\"&gt;—Appea...</td>\n",
       "      <td>NaN</td>\n",
       "      <td>t</td>\n",
       "      <td>NaN</td>\n",
       "      <td>6038493</td>\n",
       "    </tr>\n",
       "    <tr>\n",
       "      <th>2</th>\n",
       "      <td>5901620</td>\n",
       "      <td>2022-01-13 03:22:58.704638+00</td>\n",
       "      <td>2022-01-13 03:22:58.704662+00</td>\n",
       "      <td>NaN</td>\n",
       "      <td>f</td>\n",
       "      <td>NaN</td>\n",
       "      <td>020lead</td>\n",
       "      <td>NaN</td>\n",
       "      <td>NaN</td>\n",
       "      <td>NaN</td>\n",
       "      <td>...</td>\n",
       "      <td>NaN</td>\n",
       "      <td>NaN</td>\n",
       "      <td>NaN</td>\n",
       "      <td>NaN</td>\n",
       "      <td>NaN</td>\n",
       "      <td>&lt;opinion type=\"majority\"&gt;\\n&lt;p id=\"AhO2\"&gt;—Appea...</td>\n",
       "      <td>NaN</td>\n",
       "      <td>t</td>\n",
       "      <td>NaN</td>\n",
       "      <td>6038494</td>\n",
       "    </tr>\n",
       "    <tr>\n",
       "      <th>3</th>\n",
       "      <td>5901621</td>\n",
       "      <td>2022-01-13 03:22:58.970362+00</td>\n",
       "      <td>2022-01-13 03:22:58.970386+00</td>\n",
       "      <td>NaN</td>\n",
       "      <td>f</td>\n",
       "      <td>NaN</td>\n",
       "      <td>020lead</td>\n",
       "      <td>NaN</td>\n",
       "      <td>NaN</td>\n",
       "      <td>NaN</td>\n",
       "      <td>...</td>\n",
       "      <td>NaN</td>\n",
       "      <td>NaN</td>\n",
       "      <td>NaN</td>\n",
       "      <td>NaN</td>\n",
       "      <td>NaN</td>\n",
       "      <td>&lt;opinion type=\"majority\"&gt;\\n&lt;p id=\"AnXL\"&gt;—Appea...</td>\n",
       "      <td>NaN</td>\n",
       "      <td>t</td>\n",
       "      <td>NaN</td>\n",
       "      <td>6038495</td>\n",
       "    </tr>\n",
       "    <tr>\n",
       "      <th>4</th>\n",
       "      <td>5901622</td>\n",
       "      <td>2022-01-13 03:22:59.217791+00</td>\n",
       "      <td>2022-01-13 03:22:59.217815+00</td>\n",
       "      <td>NaN</td>\n",
       "      <td>f</td>\n",
       "      <td>NaN</td>\n",
       "      <td>020lead</td>\n",
       "      <td>NaN</td>\n",
       "      <td>NaN</td>\n",
       "      <td>NaN</td>\n",
       "      <td>...</td>\n",
       "      <td>NaN</td>\n",
       "      <td>NaN</td>\n",
       "      <td>NaN</td>\n",
       "      <td>NaN</td>\n",
       "      <td>NaN</td>\n",
       "      <td>&lt;opinion type=\"majority\"&gt;\\n&lt;p id=\"b845-12\"&gt;In ...</td>\n",
       "      <td>NaN</td>\n",
       "      <td>t</td>\n",
       "      <td>NaN</td>\n",
       "      <td>6038496</td>\n",
       "    </tr>\n",
       "  </tbody>\n",
       "</table>\n",
       "<p>5 rows × 21 columns</p>\n",
       "</div>"
      ],
      "text/plain": [
       "        id                   date_created                  date_modified  \\\n",
       "0  5901618  2022-01-13 03:22:58.163752+00   2022-01-13 03:22:58.16378+00   \n",
       "1  5901619  2022-01-13 03:22:58.445791+00  2022-01-13 03:22:58.445825+00   \n",
       "2  5901620  2022-01-13 03:22:58.704638+00  2022-01-13 03:22:58.704662+00   \n",
       "3  5901621  2022-01-13 03:22:58.970362+00  2022-01-13 03:22:58.970386+00   \n",
       "4  5901622  2022-01-13 03:22:59.217791+00  2022-01-13 03:22:59.217815+00   \n",
       "\n",
       "  author_str per_curiam  joined_by_str     type sha1  page_count download_url  \\\n",
       "0        NaN          f            NaN  020lead  NaN         NaN          NaN   \n",
       "1        NaN          f            NaN  020lead  NaN         NaN          NaN   \n",
       "2        NaN          f            NaN  020lead  NaN         NaN          NaN   \n",
       "3        NaN          f            NaN  020lead  NaN         NaN          NaN   \n",
       "4        NaN          f            NaN  020lead  NaN         NaN          NaN   \n",
       "\n",
       "   ... plain_text html html_lawbox html_columbia html_anon_2020  \\\n",
       "0  ...        NaN  NaN         NaN           NaN            NaN   \n",
       "1  ...        NaN  NaN         NaN           NaN            NaN   \n",
       "2  ...        NaN  NaN         NaN           NaN            NaN   \n",
       "3  ...        NaN  NaN         NaN           NaN            NaN   \n",
       "4  ...        NaN  NaN         NaN           NaN            NaN   \n",
       "\n",
       "                                         xml_harvard html_with_citations  \\\n",
       "0  <opinion type=\"majority\">\\n<p id=\"ADG\">—Appeal...                 NaN   \n",
       "1  <opinion type=\"majority\">\\n<p id=\"AocO\">—Appea...                 NaN   \n",
       "2  <opinion type=\"majority\">\\n<p id=\"AhO2\">—Appea...                 NaN   \n",
       "3  <opinion type=\"majority\">\\n<p id=\"AnXL\">—Appea...                 NaN   \n",
       "4  <opinion type=\"majority\">\\n<p id=\"b845-12\">In ...                 NaN   \n",
       "\n",
       "  extracted_by_ocr author_id  cluster_id  \n",
       "0                t       NaN     6038492  \n",
       "1                t       NaN     6038493  \n",
       "2                t       NaN     6038494  \n",
       "3                t       NaN     6038495  \n",
       "4                t       NaN     6038496  \n",
       "\n",
       "[5 rows x 21 columns]"
      ]
     },
     "execution_count": 63,
     "metadata": {},
     "output_type": "execute_result"
    }
   ],
   "source": [
    "dfs[0].head()"
   ]
  }
 ],
 "metadata": {
  "kernelspec": {
   "display_name": "Python 3 (ipykernel)",
   "language": "python",
   "name": "python3"
  },
  "language_info": {
   "codemirror_mode": {
    "name": "ipython",
    "version": 3
   },
   "file_extension": ".py",
   "mimetype": "text/x-python",
   "name": "python",
   "nbconvert_exporter": "python",
   "pygments_lexer": "ipython3",
   "version": "3.8.9"
  }
 },
 "nbformat": 4,
 "nbformat_minor": 5
}
