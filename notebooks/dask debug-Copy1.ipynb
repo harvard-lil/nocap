{
 "cells": [
  {
   "cell_type": "code",
   "execution_count": 1,
   "id": "5b3dfbf8",
   "metadata": {},
   "outputs": [
    {
     "name": "stdout",
     "output_type": "stream",
     "text": [
      "Found existing installation: lil-nocap 0.5.3\r\n",
      "Uninstalling lil-nocap-0.5.3:\r\n",
      "  Successfully uninstalled lil-nocap-0.5.3\r\n"
     ]
    }
   ],
   "source": [
    "!pip3 uninstall lil_nocap -y"
   ]
  },
  {
   "cell_type": "code",
   "execution_count": 2,
   "id": "b9334d67",
   "metadata": {
    "scrolled": true
   },
   "outputs": [
    {
     "name": "stdout",
     "output_type": "stream",
     "text": [
      "Processing /Users/sabelosethumhlambi/Documents/GitHub/nocap\n",
      "  Installing build dependencies ... \u001b[?25ldone\n",
      "\u001b[?25h  Getting requirements to build wheel ... \u001b[?25ldone\n",
      "\u001b[?25h  Preparing metadata (pyproject.toml) ... \u001b[?25ldone\n",
      "\u001b[?25hRequirement already satisfied: click<9.0.0,>=8.1.3 in /Library/Frameworks/Python.framework/Versions/3.10/lib/python3.10/site-packages (from lil-nocap==0.5.3) (8.1.3)\n",
      "Requirement already satisfied: dask[dataframe]<2024.0.0,>=2023.3.0 in /Library/Frameworks/Python.framework/Versions/3.10/lib/python3.10/site-packages (from lil-nocap==0.5.3) (2023.3.0)\n",
      "Requirement already satisfied: numpy<2.0.0,>=1.24.2 in /Library/Frameworks/Python.framework/Versions/3.10/lib/python3.10/site-packages (from lil-nocap==0.5.3) (1.24.2)\n",
      "Requirement already satisfied: pandas<2.0.0,>=1.5.3 in /Library/Frameworks/Python.framework/Versions/3.10/lib/python3.10/site-packages (from lil-nocap==0.5.3) (1.5.3)\n",
      "Requirement already satisfied: cloudpickle>=1.1.1 in /Library/Frameworks/Python.framework/Versions/3.10/lib/python3.10/site-packages (from dask[dataframe]<2024.0.0,>=2023.3.0->lil-nocap==0.5.3) (2.3.0.dev0)\n",
      "Requirement already satisfied: pyyaml>=5.3.1 in /Library/Frameworks/Python.framework/Versions/3.10/lib/python3.10/site-packages (from dask[dataframe]<2024.0.0,>=2023.3.0->lil-nocap==0.5.3) (6.0)\n",
      "Requirement already satisfied: partd>=1.2.0 in /Library/Frameworks/Python.framework/Versions/3.10/lib/python3.10/site-packages (from dask[dataframe]<2024.0.0,>=2023.3.0->lil-nocap==0.5.3) (1.3.0)\n",
      "Requirement already satisfied: toolz>=0.8.2 in /Library/Frameworks/Python.framework/Versions/3.10/lib/python3.10/site-packages (from dask[dataframe]<2024.0.0,>=2023.3.0->lil-nocap==0.5.3) (0.12.0)\n",
      "Requirement already satisfied: fsspec>=0.6.0 in /Library/Frameworks/Python.framework/Versions/3.10/lib/python3.10/site-packages (from dask[dataframe]<2024.0.0,>=2023.3.0->lil-nocap==0.5.3) (2023.3.0)\n",
      "Requirement already satisfied: packaging>=20.0 in /Library/Frameworks/Python.framework/Versions/3.10/lib/python3.10/site-packages (from dask[dataframe]<2024.0.0,>=2023.3.0->lil-nocap==0.5.3) (23.0)\n",
      "Requirement already satisfied: pytz>=2020.1 in /Library/Frameworks/Python.framework/Versions/3.10/lib/python3.10/site-packages (from pandas<2.0.0,>=1.5.3->lil-nocap==0.5.3) (2022.7.1)\n",
      "Requirement already satisfied: python-dateutil>=2.8.1 in /Library/Frameworks/Python.framework/Versions/3.10/lib/python3.10/site-packages (from pandas<2.0.0,>=1.5.3->lil-nocap==0.5.3) (2.8.2)\n",
      "Requirement already satisfied: locket in /Library/Frameworks/Python.framework/Versions/3.10/lib/python3.10/site-packages (from partd>=1.2.0->dask[dataframe]<2024.0.0,>=2023.3.0->lil-nocap==0.5.3) (1.0.0)\n",
      "Requirement already satisfied: six>=1.5 in /Library/Frameworks/Python.framework/Versions/3.10/lib/python3.10/site-packages (from python-dateutil>=2.8.1->pandas<2.0.0,>=1.5.3->lil-nocap==0.5.3) (1.16.0)\n",
      "Building wheels for collected packages: lil-nocap\n",
      "  Building wheel for lil-nocap (pyproject.toml) ... \u001b[?25ldone\n",
      "\u001b[?25h  Created wheel for lil-nocap: filename=lil_nocap-0.5.3-py3-none-any.whl size=13668 sha256=3f5803ff92c65f61d23e8f41b7a322784a7b20f8e0e73b2ae7e76495b60ec820\n",
      "  Stored in directory: /private/var/folders/rj/v64qwmcn24jgn090vgn_qr_c0000gq/T/pip-ephem-wheel-cache-j7ocrjyq/wheels/c6/9f/f3/972844162f7e1b1b9c1bf6d40b822b5dde236e4ebc070f6190\n",
      "Successfully built lil-nocap\n",
      "Installing collected packages: lil-nocap\n",
      "Successfully installed lil-nocap-0.5.3\n",
      "\n",
      "\u001b[1m[\u001b[0m\u001b[34;49mnotice\u001b[0m\u001b[1;39;49m]\u001b[0m\u001b[39;49m A new release of pip available: \u001b[0m\u001b[31;49m22.3.1\u001b[0m\u001b[39;49m -> \u001b[0m\u001b[32;49m23.1.2\u001b[0m\n",
      "\u001b[1m[\u001b[0m\u001b[34;49mnotice\u001b[0m\u001b[1;39;49m]\u001b[0m\u001b[39;49m To update, run: \u001b[0m\u001b[32;49mpip3 install --upgrade pip\u001b[0m\n"
     ]
    }
   ],
   "source": [
    "!pip3 install ../"
   ]
  },
  {
   "cell_type": "code",
   "execution_count": 3,
   "id": "897e517c-ed60-431c-b3a4-b5970a1936a5",
   "metadata": {
    "tags": []
   },
   "outputs": [],
   "source": [
    "%load_ext autoreload"
   ]
  },
  {
   "cell_type": "code",
   "execution_count": 4,
   "id": "429856ce",
   "metadata": {
    "tags": []
   },
   "outputs": [],
   "source": [
    "import time \n",
    "import random\n",
    "import pandas as pd\n",
    "import csv\n",
    "import pickle\n",
    "\n",
    "import shelve"
   ]
  },
  {
   "cell_type": "code",
   "execution_count": 5,
   "id": "98e9f06f",
   "metadata": {
    "tags": []
   },
   "outputs": [
    {
     "name": "stderr",
     "output_type": "stream",
     "text": [
      "DEBUG:root:test\n"
     ]
    }
   ],
   "source": [
    "import logging\n",
    "logger = logging.getLogger()\n",
    "logger.setLevel(logging.DEBUG)\n",
    "logging.debug(\"test\")"
   ]
  },
  {
   "cell_type": "code",
   "execution_count": 6,
   "id": "c0cefc65",
   "metadata": {},
   "outputs": [
    {
     "name": "stdout",
     "output_type": "stream",
     "text": [
      "Requirement already satisfied: sqlitedict in /Library/Frameworks/Python.framework/Versions/3.10/lib/python3.10/site-packages (2.1.0)\n",
      "\n",
      "\u001b[1m[\u001b[0m\u001b[34;49mnotice\u001b[0m\u001b[1;39;49m]\u001b[0m\u001b[39;49m A new release of pip available: \u001b[0m\u001b[31;49m22.3.1\u001b[0m\u001b[39;49m -> \u001b[0m\u001b[32;49m23.1.2\u001b[0m\n",
      "\u001b[1m[\u001b[0m\u001b[34;49mnotice\u001b[0m\u001b[1;39;49m]\u001b[0m\u001b[39;49m To update, run: \u001b[0m\u001b[32;49mpip3 install --upgrade pip\u001b[0m\n"
     ]
    }
   ],
   "source": [
    "!pip3 install sqlitedict"
   ]
  },
  {
   "cell_type": "code",
   "execution_count": 7,
   "id": "d3a27511",
   "metadata": {},
   "outputs": [
    {
     "name": "stdout",
     "output_type": "stream",
     "text": [
      "Requirement already satisfied: tqdm in /Library/Frameworks/Python.framework/Versions/3.10/lib/python3.10/site-packages (4.65.0)\n",
      "\n",
      "\u001b[1m[\u001b[0m\u001b[34;49mnotice\u001b[0m\u001b[1;39;49m]\u001b[0m\u001b[39;49m A new release of pip available: \u001b[0m\u001b[31;49m22.3.1\u001b[0m\u001b[39;49m -> \u001b[0m\u001b[32;49m23.1.2\u001b[0m\n",
      "\u001b[1m[\u001b[0m\u001b[34;49mnotice\u001b[0m\u001b[1;39;49m]\u001b[0m\u001b[39;49m To update, run: \u001b[0m\u001b[32;49mpip3 install --upgrade pip\u001b[0m\n"
     ]
    }
   ],
   "source": [
    "!pip3 install tqdm"
   ]
  },
  {
   "cell_type": "code",
   "execution_count": 8,
   "id": "fd7dda27-8d42-4f38-80aa-4d1c4b46bb5a",
   "metadata": {},
   "outputs": [
    {
     "name": "stderr",
     "output_type": "stream",
     "text": [
      "/Library/Frameworks/Python.framework/Versions/3.10/lib/python3.10/site-packages/tqdm/auto.py:21: TqdmWarning: IProgress not found. Please update jupyter and ipywidgets. See https://ipywidgets.readthedocs.io/en/stable/user_install.html\n",
      "  from .autonotebook import tqdm as notebook_tqdm\n"
     ]
    }
   ],
   "source": [
    "%autoreload 2\n",
    "import lil_nocap as lnc"
   ]
  },
  {
   "cell_type": "code",
   "execution_count": 9,
   "id": "d3541c6e",
   "metadata": {
    "tags": []
   },
   "outputs": [],
   "source": [
    "path = \"/Users/sabelosethumhlambi/Downloads/\""
   ]
  },
  {
   "cell_type": "code",
   "execution_count": null,
   "id": "86c1456c",
   "metadata": {},
   "outputs": [],
   "source": []
  },
  {
   "cell_type": "code",
   "execution_count": 10,
   "id": "a0ad59d2",
   "metadata": {
    "tags": []
   },
   "outputs": [],
   "source": [
    "#opinions_fn = 'sopinions.csv'\n",
    "opinions_fn = f'{path}opinions-2022-12-31.csv'\n",
    "dockets_fn = f'{path}dockets-2022-12-31.csv.bz2'\n",
    "courts_fn = f'{path}courts-2022-12-31.csv'\n",
    "opinion_clusters_fn = f'{path}opinion-clusters-2022-12-31.csv.bz2'\n",
    "citation_fn = f'{path}citation-map-2022-12-31.csv'"
   ]
  },
  {
   "cell_type": "markdown",
   "id": "7be89e0b",
   "metadata": {},
   "source": [
    "## Initialize NoCAP"
   ]
  },
  {
   "cell_type": "code",
   "execution_count": 11,
   "id": "a24d5b25",
   "metadata": {
    "tags": []
   },
   "outputs": [
    {
     "name": "stderr",
     "output_type": "stream",
     "text": [
      "DEBUG:root:Initializing\n",
      "DEBUG:root:Importing /Users/sabelosethumhlambi/Downloads/courts-2022-12-31.csv as a dataframe\n",
      "DEBUG:root:File Size is : 0.0 GB\n",
      "DEBUG:root:/Users/sabelosethumhlambi/Downloads/courts-2022-12-31.csv read in 0 minutes\n",
      "DEBUG:sqlitedict:opening Sqlite table 'unnamed' in 'opinion_clusters.sqlite'\n",
      "DEBUG:root:Importing /Users/sabelosethumhlambi/Downloads/citation-map-2022-12-31.csv as a dataframe\n",
      "DEBUG:root:File Size is : 0.79 GB\n",
      "DEBUG:root:/Users/sabelosethumhlambi/Downloads/citation-map-2022-12-31.csv read in 0 minutes\n",
      "DEBUG:sqlitedict:opening Sqlite table 'unnamed' in 'dockets.sqlite'\n"
     ]
    },
    {
     "name": "stdout",
     "output_type": "stream",
     "text": [
      "CPU times: user 5.81 s, sys: 1.51 s, total: 7.32 s\n",
      "Wall time: 7.43 s\n"
     ]
    }
   ],
   "source": [
    "%%time\n",
    "nc = lnc.NoCap(opinions_fn, opinion_clusters_fn, courts_fn, dockets_fn, citation_fn)"
   ]
  },
  {
   "cell_type": "code",
   "execution_count": 12,
   "id": "5beb490c",
   "metadata": {
    "tags": []
   },
   "outputs": [
    {
     "name": "stderr",
     "output_type": "stream",
     "text": [
      "DEBUG:root:Importing /Users/sabelosethumhlambi/Downloads/opinions-2022-12-31.csv as a dataframe\n",
      "DEBUG:root:File Size is : 193.39 GB\n",
      "Processing opinions: 0it [00:00, ?it/s]DEBUG:root:process_df: client.map\n",
      "DEBUG:root:printing mini opinion dataframe as a dict\n",
      "DEBUG:root:getting cluster rows\n",
      "DEBUG:root:process_df: client.map\n",
      "DEBUG:root:printing mini opinion dataframe as a dict\n",
      "DEBUG:root:getting cluster rows\n",
      "DEBUG:root:process_df: client.map\n",
      "DEBUG:root:printing mini opinion dataframe as a dict\n",
      "DEBUG:root:getting cluster rows\n",
      "DEBUG:root:process_df: client.map\n",
      "DEBUG:root:printing mini opinion dataframe as a dict\n",
      "DEBUG:root:getting cluster rows\n",
      "DEBUG:root:process_df: client.map\n",
      "DEBUG:root:printing mini opinion dataframe as a dict\n",
      "DEBUG:root:getting cluster rows\n",
      "DEBUG:root:process_df: client.map\n",
      "DEBUG:root:printing mini opinion dataframe as a dict\n",
      "DEBUG:root:getting cluster rows\n",
      "DEBUG:root:process_df: client.map\n",
      "DEBUG:root:printing mini opinion dataframe as a dict\n",
      "DEBUG:root:getting cluster rows\n",
      "DEBUG:root:process_df: client.map\n",
      "DEBUG:root:printing mini opinion dataframe as a dict\n",
      "DEBUG:root:getting cluster rows\n",
      "DEBUG:root:process_df: client.map\n",
      "DEBUG:root:printing mini opinion dataframe as a dict\n",
      "DEBUG:root:getting cluster rows\n",
      "DEBUG:root:process_df: client.map\n",
      "DEBUG:root:printing mini opinion dataframe as a dict\n",
      "DEBUG:root:getting cluster rows\n",
      "DEBUG:root:process_df: client.map\n",
      "DEBUG:root:printing mini opinion dataframe as a dict\n",
      "DEBUG:root:getting cluster rows\n",
      "DEBUG:root:process_df: client.map\n",
      "DEBUG:root:printing mini opinion dataframe as a dict\n",
      "DEBUG:root:getting cluster rows\n",
      "DEBUG:root:getting dockets\n",
      "DEBUG:root:running map(process_row) in parallel\n",
      "DEBUG:root:getting dockets\n",
      "DEBUG:root:running map(process_row) in parallel\n",
      "DEBUG:root:getting dockets\n",
      "DEBUG:root:getting dockets\n",
      "DEBUG:root:getting dockets\n",
      "DEBUG:root:getting dockets\n",
      "DEBUG:root:getting dockets\n",
      "DEBUG:root:getting dockets\n",
      "DEBUG:root:running map(process_row) in parallel\n",
      "DEBUG:root:getting dockets\n",
      "DEBUG:root:getting dockets\n",
      "DEBUG:root:getting dockets\n",
      "DEBUG:root:getting dockets\n",
      "DEBUG:root:running map(process_row) in parallel\n",
      "DEBUG:root:running map(process_row) in parallel\n",
      "DEBUG:root:running map(process_row) in parallel\n",
      "DEBUG:root:running map(process_row) in parallel\n",
      "DEBUG:root:running map(process_row) in parallel\n",
      "DEBUG:root:running map(process_row) in parallel\n",
      "DEBUG:root:running map(process_row) in parallel\n",
      "DEBUG:root:running map(process_row) in parallel\n",
      "DEBUG:root:running map(process_row) in parallel\n",
      "\n",
      "KeyboardInterrupt\n",
      "\n"
     ]
    }
   ],
   "source": [
    "nc.start()"
   ]
  }
 ],
 "metadata": {
  "kernelspec": {
   "display_name": "Python 3 (ipykernel)",
   "language": "python",
   "name": "python3"
  },
  "language_info": {
   "codemirror_mode": {
    "name": "ipython",
    "version": 3
   },
   "file_extension": ".py",
   "mimetype": "text/x-python",
   "name": "python",
   "nbconvert_exporter": "python",
   "pygments_lexer": "ipython3",
   "version": "3.10.10"
  }
 },
 "nbformat": 4,
 "nbformat_minor": 5
}
